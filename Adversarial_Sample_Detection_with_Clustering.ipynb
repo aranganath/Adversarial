{
 "cells": [
  {
   "cell_type": "code",
   "execution_count": 1,
   "id": "9d5bbef6",
   "metadata": {},
   "outputs": [],
   "source": [
    "from tensorflow.keras.datasets import mnist\n",
    "import numpy as np\n",
    "import torch\n",
    "from torch import nn\n",
    "import matplotlib.pyplot as plt\n",
    "\n",
    "from sklearn.manifold import TSNE\n",
    "from sklearn.svm import LinearSVC, SVC\n",
    "from sklearn.decomposition import PCA\n",
    "\n",
    "import utils"
   ]
  },
  {
   "cell_type": "markdown",
   "id": "95e03494",
   "metadata": {},
   "source": [
    "### Load data (MNIST)"
   ]
  },
  {
   "cell_type": "code",
   "execution_count": 2,
   "id": "3be52bc2",
   "metadata": {},
   "outputs": [],
   "source": [
    "(x_train, y_train), (x_test, y_test) = mnist.load_data()\n",
    "\n",
    "# Conversion to float\n",
    "x_train = x_train.astype('float32') \n",
    "x_test = x_test.astype('float32')\n",
    "# Normalization\n",
    "x_train = x_train/255.0\n",
    "x_test = x_test/255.0\n",
    "\n",
    "X_train = x_train.reshape(len(x_train),-1)\n",
    "X_test = x_test.reshape(len(x_test),-1)"
   ]
  },
  {
   "cell_type": "code",
   "execution_count": 3,
   "id": "d2f37ba6",
   "metadata": {},
   "outputs": [
    {
     "name": "stdout",
     "output_type": "stream",
     "text": [
      "(60000, 784)\n",
      "(10000, 784)\n",
      "(60000,)\n",
      "(10000,)\n"
     ]
    }
   ],
   "source": [
    "print(X_train.shape)\n",
    "print(X_test.shape)\n",
    "print(y_train.shape)\n",
    "print(y_test.shape)"
   ]
  },
  {
   "cell_type": "markdown",
   "id": "47fde4e8",
   "metadata": {},
   "source": [
    "### Cluster input space"
   ]
  },
  {
   "cell_type": "code",
   "execution_count": 4,
   "id": "f03938c6",
   "metadata": {},
   "outputs": [],
   "source": [
    "curr_digit = 0\n",
    "eps = 3e-2"
   ]
  },
  {
   "cell_type": "code",
   "execution_count": 5,
   "id": "6ac73eb4",
   "metadata": {},
   "outputs": [],
   "source": [
    "# Get labels for one-vs-all classification on curr_digit\n",
    "one_v_all_trainloader, one_v_all_train_labels = utils.one_vs_all_dataloader(X_train, y_train, digit=curr_digit)\n",
    "\n",
    "# Find RBF classification boundary in input space for curr_digit\n",
    "input_cluster = SVC(kernel='rbf', C=1e-2, random_state=42, max_iter = 1e5).fit(X_train, one_v_all_train_labels)"
   ]
  },
  {
   "cell_type": "code",
   "execution_count": 6,
   "id": "1cfc1632",
   "metadata": {},
   "outputs": [
    {
     "data": {
      "text/plain": [
       "0.9896"
      ]
     },
     "execution_count": 6,
     "metadata": {},
     "output_type": "execute_result"
    }
   ],
   "source": [
    "# Test classification boundary found above\n",
    "_, one_v_all_test_labels = utils.one_vs_all_dataloader(X_test, y_test, digit=curr_digit)\n",
    "\n",
    "input_cluster.score(X_test, one_v_all_test_labels)"
   ]
  },
  {
   "cell_type": "markdown",
   "id": "0a9dc7b0",
   "metadata": {},
   "source": [
    "### Train Model"
   ]
  },
  {
   "cell_type": "code",
   "execution_count": 7,
   "id": "f0c7a6bb",
   "metadata": {},
   "outputs": [
    {
     "name": "stdout",
     "output_type": "stream",
     "text": [
      "Epoch 0 - Training loss: 0.3396594660289125\n",
      "Epoch 1 - Training loss: 0.14460983498991012\n",
      "Epoch 2 - Training loss: 0.0982893980346493\n",
      "Epoch 3 - Training loss: 0.07253741189988373\n",
      "Epoch 4 - Training loss: 0.05748607859803316\n",
      "Epoch 5 - Training loss: 0.044049373519709153\n",
      "Epoch 6 - Training loss: 0.03671703477594147\n",
      "Epoch 7 - Training loss: 0.030738560278946635\n",
      "Epoch 8 - Training loss: 0.024785172507000058\n",
      "Epoch 9 - Training loss: 0.021644791235900553\n",
      "Epoch 10 - Training loss: 0.016564490723486397\n",
      "Epoch 11 - Training loss: 0.01594451567868044\n",
      "Epoch 12 - Training loss: 0.014224630841386327\n",
      "Epoch 13 - Training loss: 0.013331107361368798\n",
      "Epoch 14 - Training loss: 0.01060611543172916\n",
      "\n",
      "Training Time (in minutes) = 0.37441667715708415\n",
      "Predicted Digit = 3\n",
      "Number Of Images Tested = 10000\n",
      "\n",
      "Model Accuracy = 0.9755\n"
     ]
    },
    {
     "data": {
      "image/png": "[encoded data removed]",
      "text/plain": [
       "<Figure size 432x648 with 2 Axes>"
      ]
     },
     "metadata": {
      "needs_background": "light"
     },
     "output_type": "display_data"
    }
   ],
   "source": [
    "# Now let's start training the network\n",
    "input_size = 784\n",
    "hidden_sizes = [128, 64]\n",
    "output_size = 10\n",
    "\n",
    "model = nn.Sequential(nn.Linear(input_size, hidden_sizes[0]),\n",
    "                      nn.ReLU(),\n",
    "                      nn.Linear(hidden_sizes[0], hidden_sizes[1]),\n",
    "                      nn.ReLU(),\n",
    "                      nn.Linear(hidden_sizes[1], output_size),\n",
    "                      nn.LogSoftmax(dim=1))\n",
    "\n",
    "model = utils.train_model(model, X_train, X_test, y_train, y_test, epochs=15)"
   ]
  },
  {
   "cell_type": "markdown",
   "id": "9958750d",
   "metadata": {},
   "source": [
    "### Get model outputs"
   ]
  },
  {
   "cell_type": "code",
   "execution_count": 8,
   "id": "867cb191",
   "metadata": {},
   "outputs": [],
   "source": [
    "one_v_all_trainloader, _ = utils.one_vs_all_dataloader(X_train, y_train, digit=curr_digit)\n",
    "\n",
    "outputs = utils.get_network_outputs(model, one_v_all_trainloader)"
   ]
  },
  {
   "cell_type": "markdown",
   "id": "b0dfe298",
   "metadata": {},
   "source": [
    "### Cluster output space"
   ]
  },
  {
   "cell_type": "code",
   "execution_count": 118,
   "id": "d274e6bc",
   "metadata": {},
   "outputs": [],
   "source": [
    "# Percentage of samples flagged as suspicious \n",
    "# C=5e-2: adv: ~13.3%, clean: ~8%\n",
    "# C=5e-3: adv: ~20.8%, clean: ~7.6%\n",
    "# C=1.25e-3: adv: 32.9%, clean: 7.4%\n",
    "# C=1e-3: adv: ~35.8%, clean: ~8%\n",
    "# C=7.5e-4: adv: ~39.7%, clean: ~11%\n",
    "# C=5e-4: adv: ~56.6%, clean: ~21.8%\n",
    "output_cluster = SVC(kernel='rbf', C=7.5e-4, random_state=42, max_iter = 1e5).fit(outputs, one_v_all_train_labels)"
   ]
  },
  {
   "cell_type": "markdown",
   "id": "c03413b2",
   "metadata": {},
   "source": [
    "### Generate adversarial samples"
   ]
  },
  {
   "cell_type": "code",
   "execution_count": 119,
   "id": "7b5589aa",
   "metadata": {},
   "outputs": [],
   "source": [
    "one_v_all_testloader, _ = utils.one_vs_all_dataloader(X_test, y_test, digit=curr_digit)\n",
    "\n",
    "adv_test_data = utils.add_adversarial_noise(model, one_v_all_testloader, eps=eps)"
   ]
  },
  {
   "cell_type": "code",
   "execution_count": 120,
   "id": "cbd4f866",
   "metadata": {},
   "outputs": [
    {
     "data": {
      "text/plain": [
       "0.9859"
      ]
     },
     "execution_count": 120,
     "metadata": {},
     "output_type": "execute_result"
    }
   ],
   "source": [
    "# Assess performance of input cluster classifier on adversarial data\n",
    "input_cluster.score(adv_test_data, one_v_all_test_labels)"
   ]
  },
  {
   "cell_type": "code",
   "execution_count": 121,
   "id": "81419d3c",
   "metadata": {},
   "outputs": [
    {
     "name": "stdout",
     "output_type": "stream",
     "text": [
      "Number Of Samples Tested = 10000\n",
      "\n",
      "Model Accuracy = 0.4869\n"
     ]
    }
   ],
   "source": [
    "# Assess performance of model on adversarial data\n",
    "utils.eval_model(model, adv_test_data, y_test)"
   ]
  },
  {
   "cell_type": "code",
   "execution_count": 122,
   "id": "f0dc2c5e",
   "metadata": {},
   "outputs": [],
   "source": [
    "# Get model outputs on adversarial data\n",
    "one_v_all_advloader, one_v_all_labels = utils.one_vs_all_dataloader(adv_test_data, y_test, digit=curr_digit)\n",
    "\n",
    "adv_outputs = utils.get_network_outputs(model, one_v_all_advloader)"
   ]
  },
  {
   "cell_type": "code",
   "execution_count": 123,
   "id": "52c3b2c7",
   "metadata": {},
   "outputs": [
    {
     "data": {
      "text/plain": [
       "0.947"
      ]
     },
     "execution_count": 123,
     "metadata": {},
     "output_type": "execute_result"
    }
   ],
   "source": [
    "# Assess performance of output cluster classifier on model output of adversarial data\n",
    "output_cluster.score(adv_outputs, one_v_all_test_labels)"
   ]
  },
  {
   "cell_type": "code",
   "execution_count": 124,
   "id": "b8ac7358",
   "metadata": {},
   "outputs": [],
   "source": [
    "# Get input and output cluster predictions - if these disagree, we will consider the sample suspicious \n",
    "input_cluster_preds = input_cluster.predict(adv_test_data)\n",
    "output_cluster_preds = output_cluster.predict(adv_outputs)"
   ]
  },
  {
   "cell_type": "code",
   "execution_count": 125,
   "id": "5e6054c9",
   "metadata": {},
   "outputs": [],
   "source": [
    "current_digit_idx = np.where(one_v_all_test_labels == 1)"
   ]
  },
  {
   "cell_type": "code",
   "execution_count": 126,
   "id": "26975df1",
   "metadata": {},
   "outputs": [
    {
     "data": {
      "text/plain": [
       "0.39693877551020407"
      ]
     },
     "execution_count": 126,
     "metadata": {},
     "output_type": "execute_result"
    }
   ],
   "source": [
    "# Proportion of adversarial data flagged as suspicious (in cluster in input but out of cluster in output)\n",
    "(input_cluster_preds[current_digit_idx] != output_cluster_preds[current_digit_idx]).sum().item() / len(input_cluster_preds[current_digit_idx])"
   ]
  },
  {
   "cell_type": "code",
   "execution_count": 127,
   "id": "673ff1ab",
   "metadata": {},
   "outputs": [
    {
     "data": {
      "text/plain": [
       "0.11020408163265306"
      ]
     },
     "execution_count": 127,
     "metadata": {},
     "output_type": "execute_result"
    }
   ],
   "source": [
    "# Proportion of clean data flagged as suspicious (in cluster in input but out of cluster in output)\n",
    "clean_test_outputs = utils.get_network_outputs(model, one_v_all_testloader)\n",
    "\n",
    "clean_in_cluster_preds = input_cluster.predict(X_test)\n",
    "clean_out_cluster_preds = output_cluster.predict(clean_test_outputs)\n",
    "\n",
    "(clean_in_cluster_preds[current_digit_idx] != clean_out_cluster_preds[current_digit_idx]).sum().item() / len(clean_in_cluster_preds[current_digit_idx])"
   ]
  },
  {
   "cell_type": "code",
   "execution_count": null,
   "id": "0707309e",
   "metadata": {},
   "outputs": [],
   "source": []
  }
 ],
 "metadata": {
  "kernelspec": {
   "display_name": "Python 3",
   "language": "python",
   "name": "python3"
  },
  "language_info": {
   "codemirror_mode": {
    "name": "ipython",
    "version": 3
   },
   "file_extension": ".py",
   "mimetype": "text/x-python",
   "name": "python",
   "nbconvert_exporter": "python",
   "pygments_lexer": "ipython3",
   "version": "3.9.5"
  }
 },
 "nbformat": 4,
 "nbformat_minor": 5
}
