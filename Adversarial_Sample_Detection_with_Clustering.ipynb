{
 "cells": [
  {
   "cell_type": "code",
   "execution_count": 1,
   "id": "9d5bbef6",
   "metadata": {},
   "outputs": [],
   "source": [
    "import numpy as np\n",
    "import torch\n",
    "from torch import nn\n",
    "import matplotlib.pyplot as plt\n",
    "\n",
    "# Input space transformation (dimensionality reduction)\n",
    "from sklearn.decomposition import PCA\n",
    "from sklearn.manifold import TSNE\n",
    "import umap\n",
    "from sklearn import random_projection\n",
    "from sklearn import cluster\n",
    "from sklearn.random_projection import johnson_lindenstrauss_min_dim\n",
    "\n",
    "import utils\n",
    "from model import My_VGG as Model\n",
    "\n",
    "from ClusteringAdvClassifier import ClusterAdversarialClassifier as Classifier"
   ]
  },
  {
   "cell_type": "markdown",
   "id": "5f9cd71a",
   "metadata": {},
   "source": [
    "# Testing Cluster Adversarial Classifier"
   ]
  },
  {
   "cell_type": "markdown",
   "id": "7608baf5",
   "metadata": {},
   "source": [
    "## Load Data"
   ]
  },
  {
   "cell_type": "code",
   "execution_count": 2,
   "id": "9cbe5d69",
   "metadata": {},
   "outputs": [],
   "source": [
    "# MNIST\n",
    "X_train, y_train, X_test, y_test = utils.load_mnist()\n",
    "channels, size, classes = 1, 28, 10\n",
    "dimensions = (size, size)\n",
    "\n",
    "# Fashion MNIST\n",
    "#X_train, y_train, X_test, y_test = utils.load_fashion_mnist()\n",
    "#channels, size, classes = 1, 28, 10\n",
    "#dimensions = (size, size)\n",
    "\n",
    "# CIFAR-10\n",
    "# X_train, y_train, X_test, y_test = utils.load_cifar10()\n",
    "# channels, size, classes = 3, 32, 10\n",
    "# dimensions = (size, size, channels)"
   ]
  },
  {
   "cell_type": "markdown",
   "id": "bf8be513",
   "metadata": {},
   "source": [
    "## Load Baseline Model (adversarial training)"
   ]
  },
  {
   "cell_type": "code",
   "execution_count": 3,
   "id": "8098838d",
   "metadata": {},
   "outputs": [],
   "source": [
    "baseline_model = utils.load_VGG('trained_models/baseline_model.pt')"
   ]
  },
  {
   "cell_type": "markdown",
   "id": "520d4e49",
   "metadata": {},
   "source": [
    "## Train Clustering Classifier"
   ]
  },
  {
   "cell_type": "markdown",
   "id": "a2de22c5",
   "metadata": {},
   "source": [
    "### Load Base Neural Network For Clustering Detector/Classifier"
   ]
  },
  {
   "cell_type": "code",
   "execution_count": 4,
   "id": "e667ce65",
   "metadata": {},
   "outputs": [],
   "source": [
    "model = utils.load_VGG('trained_models/initial_model.pt')"
   ]
  },
  {
   "cell_type": "markdown",
   "id": "98b0cbf2",
   "metadata": {},
   "source": [
    "### Input Space (Dimensionality Reduction) Transforms - optional"
   ]
  },
  {
   "cell_type": "code",
   "execution_count": 5,
   "id": "e366dcde",
   "metadata": {},
   "outputs": [],
   "source": [
    "# SKLearn method for determining a \"minimum\" number of components to reduce the dataset to\n",
    "#n_comp = johnson_lindenstrauss_min_dim(X_train.shape[0], eps=.99)\n",
    "\n",
    "# Control (no transform): Wall time: 2min 53s, clean: 0.9733, adv: 0.8829\n",
    "#transformer = None\n",
    "\n",
    "# GaussianRandomProjection(n_components=374): Wall time: 1min 47s, clean: 0.9737, adv: 0.8892\n",
    "# 2nd run: Wall time: 1min 52s, clean: 0.9727, adv: 0.911\n",
    "#transformer = random_projection.GaussianRandomProjection(n_components=n_comp)\n",
    "\n",
    "# SparseRandomProjection(n_components=374): Wall time: 1min 46s, clean: 0.9744, adv: 0.9247\n",
    "# 2nd run: Wall time: 1min 47s, clean: 0.9706, adv: 0.8998\n",
    "#transformer = random_projection.SparseRandomProjection(n_components=n_comp)\n",
    "\n",
    "# PCA(n_components=374): Wall time: 1min 53s, clean: 0.9783, adv: 0.9137\n",
    "# 2nd run: Wall time: 1min 32s, clean: 0.9757, adv: 0.9028\n",
    "#transformer = PCA(n_components=n_comp)\n",
    "\n",
    "# FeatureAgglomeration(n_clusters=10):  Wall time: 46.2 s, clean: 0.8512, adv: 0.782\n",
    "#transformer = cluster.FeatureAgglomeration(n_clusters=10)\n",
    "\n",
    "# UMAP\n",
    "# transformer = umap.UMAP(n_components = n_comp,\n",
    "#                         min_dist = 0.05,\n",
    "#                         n_neighbors = 15,\n",
    "#                         metric = \"euclidean\")"
   ]
  },
  {
   "cell_type": "markdown",
   "id": "ecb6625a",
   "metadata": {},
   "source": [
    "### Fitting the clustering classifier on clean data"
   ]
  },
  {
   "cell_type": "code",
   "execution_count": 6,
   "id": "22ff64ab",
   "metadata": {},
   "outputs": [],
   "source": [
    "# Trying out different parameters for the clustering algorithm:\n",
    "# Base: C=1, no transform\n",
    "# Clean data flagged as suspicious by detector: 2.820%\n",
    "# {'0.02': 97.28999999999999, '0.04': 96.53, '0.08': 93.91000000000001, '0.16': 83.16, '0.24': 64.78, '0.32': 48.89}\n",
    "# {'0.02': 3.9600000000000004, '0.04': 5.83, '0.08': 14.02, '0.16': 47.75, '0.24': 55.300000000000004, '0.32': 58.68}\n",
    "\n",
    "# Evaluating on adversarial data\n",
    "# Baseline Model Accuracies:  {'0.02': 98.7, '0.04': 98.88, '0.08': 99.11, '0.12': 99.18, '0.16': 99.06, '0.24': 96.96000000000001, '0.32': 84.33}\n",
    "\n",
    "######### Best performing with DCT Transfrom\n",
    "# C = 1, DCT transform \n",
    "# Clustering Model Accuracies:  {'0.02': 95.42, '0.04': 93.51, '0.08': 88.35, '0.12': 83.39, '0.16': 80.72, '0.24': 73.49, '0.32': 64.0}\n",
    "# Clustering Detector Accuracies:  {'0.02': 6.97, '0.04': 13.26, '0.08': 37.21, '0.12': 46.31, '0.16': 47.23, '0.24': 48.39, '0.32': 50.74999999999999}\n",
    "\n",
    "# C = 1, NO transform\n",
    "# Clustering Model Accuracies:  {'0.02': 97.00999999999999, '0.04': 95.34, '0.08': 90.27, '0.12': 86.14, '0.16': 83.78, '0.24': 75.38, '0.32': 63.04}\n",
    "# Clustering Detector Accuracies:  {'0.02': 5.74, '0.04': 12.22, '0.08': 36.980000000000004, '0.12': 46.36, '0.16': 47.31, '0.24': 48.35, '0.32': 51.82}\n",
    "\n",
    "# C = 1, DCT on flattened image arrays:\n",
    "# Clustering Model Accuracies:  {'0.02': 95.14, '0.04': 93.33, '0.08': 88.19, '0.12': 83.48, '0.16': 81.0, '0.24': 74.46000000000001, '0.32': 65.7}\n",
    "# Clustering Detector Accuracies:  {'0.02': 7.16, '0.04': 13.38, '0.08': 37.19, '0.12': 46.36, '0.16': 47.15, '0.24': 47.69, '0.32': 48.6}"
   ]
  },
  {
   "cell_type": "code",
   "execution_count": 7,
   "id": "5a575343",
   "metadata": {},
   "outputs": [
    {
     "name": "stderr",
     "output_type": "stream",
     "text": [
      "c:\\users\\jason\\appdata\\local\\programs\\python\\python39\\lib\\site-packages\\torch\\nn\\functional.py:718: UserWarning: Named tensors and all their associated APIs are an experimental feature and subject to change. Please do not use them for anything important until they are released as stable. (Triggered internally at  ..\\c10/core/TensorImpl.h:1156.)\n",
      "  return torch.max_pool2d(input, kernel_size, stride, padding, dilation, ceil_mode)\n"
     ]
    }
   ],
   "source": [
    "classifier = Classifier(model, SVC_C = 1, dct=True)\n",
    "\n",
    "classifier.fit(X_train, y_train)"
   ]
  },
  {
   "cell_type": "markdown",
   "id": "0ff2a48d",
   "metadata": {},
   "source": [
    "## Evaluation"
   ]
  },
  {
   "cell_type": "markdown",
   "id": "1e3531d7",
   "metadata": {},
   "source": [
    "### Scoring classifiers on clean data"
   ]
  },
  {
   "cell_type": "code",
   "execution_count": 8,
   "id": "38f1b889",
   "metadata": {},
   "outputs": [
    {
     "name": "stdout",
     "output_type": "stream",
     "text": [
      "Baseline classifier on clean test data: 98.580%\n",
      "\n",
      "Cluster Classifier Accuracy on clean test data: 95.820%\n",
      "Clean data flagged as suspicious by detector: 4.710%\n"
     ]
    }
   ],
   "source": [
    "print(\"Baseline classifier on clean test data: %.3f%%\" % (utils.eval_model(baseline_model, X_test, y_test) * 100))\n",
    "\n",
    "print(\"\\nCluster Classifier Accuracy on clean test data: %.3f%%\" % (classifier.score(X_test, y_test) * 100))\n",
    "print(\"Clean data flagged as suspicious by detector: %.3f%%\" % (classifier.proportion_flagged * 100))"
   ]
  },
  {
   "cell_type": "markdown",
   "id": "7c9ddf53",
   "metadata": {},
   "source": [
    "## Evaluating on adversarial data"
   ]
  },
  {
   "cell_type": "code",
   "execution_count": 9,
   "id": "9d53c111",
   "metadata": {
    "scrolled": false
   },
   "outputs": [
    {
     "name": "stdout",
     "output_type": "stream",
     "text": [
      "Baseline training epsilon: 0.12\n",
      "\n",
      "Current epsilon: 0.02\n"
     ]
    },
    {
     "data": {
      "image/png": "[encoded data removed]",
      "text/plain": [
       "<Figure size 432x288 with 1 Axes>"
      ]
     },
     "metadata": {
      "needs_background": "light"
     },
     "output_type": "display_data"
    },
    {
     "data": {
      "image/png": "[encoded data removed]",
      "text/plain": [
       "<Figure size 432x288 with 1 Axes>"
      ]
     },
     "metadata": {
      "needs_background": "light"
     },
     "output_type": "display_data"
    },
    {
     "name": "stdout",
     "output_type": "stream",
     "text": [
      "\tAdversarial data only:\n",
      "\t\tBaseline classifier accuracy: 98.700%\n",
      "\n",
      "\t\tCluster classifier accuracy: 95.140%\n",
      "\t\tInput data flagged as suspicious by detector: 7.160%\n",
      "\n",
      "Current epsilon: 0.04\n"
     ]
    },
    {
     "data": {
      "image/png": "[encoded data removed]",
      "text/plain": [
       "<Figure size 432x288 with 1 Axes>"
      ]
     },
     "metadata": {
      "needs_background": "light"
     },
     "output_type": "display_data"
    },
    {
     "data": {
      "image/png": "[encoded data removed]",
      "text/plain": [
       "<Figure size 432x288 with 1 Axes>"
      ]
     },
     "metadata": {
      "needs_background": "light"
     },
     "output_type": "display_data"
    },
    {
     "name": "stdout",
     "output_type": "stream",
     "text": [
      "\tAdversarial data only:\n",
      "\t\tBaseline classifier accuracy: 98.880%\n",
      "\n",
      "\t\tCluster classifier accuracy: 93.330%\n",
      "\t\tInput data flagged as suspicious by detector: 13.380%\n",
      "\n",
      "Current epsilon: 0.08\n"
     ]
    },
    {
     "data": {
      "image/png": "[encoded data removed]",
      "text/plain": [
       "<Figure size 432x288 with 1 Axes>"
      ]
     },
     "metadata": {
      "needs_background": "light"
     },
     "output_type": "display_data"
    },
    {
     "data": {
      "image/png": "[encoded data removed]",
      "text/plain": [
       "<Figure size 432x288 with 1 Axes>"
      ]
     },
     "metadata": {
      "needs_background": "light"
     },
     "output_type": "display_data"
    },
    {
     "name": "stdout",
     "output_type": "stream",
     "text": [
      "\tAdversarial data only:\n",
      "\t\tBaseline classifier accuracy: 99.110%\n",
      "\n",
      "\t\tCluster classifier accuracy: 88.190%\n",
      "\t\tInput data flagged as suspicious by detector: 37.190%\n",
      "\n",
      "Current epsilon: 0.12\n"
     ]
    },
    {
     "data": {
      "image/png": "[encoded data removed]",
      "text/plain": [
       "<Figure size 432x288 with 1 Axes>"
      ]
     },
     "metadata": {
      "needs_background": "light"
     },
     "output_type": "display_data"
    },
    {
     "data": {
      "image/png": "[encoded data removed]",
      "text/plain": [
       "<Figure size 432x288 with 1 Axes>"
      ]
     },
     "metadata": {
      "needs_background": "light"
     },
     "output_type": "display_data"
    },
    {
     "name": "stdout",
     "output_type": "stream",
     "text": [
      "\tAdversarial data only:\n",
      "\t\tBaseline classifier accuracy: 99.180%\n",
      "\n",
      "\t\tCluster classifier accuracy: 83.480%\n",
      "\t\tInput data flagged as suspicious by detector: 46.360%\n",
      "\n",
      "Current epsilon: 0.16\n"
     ]
    },
    {
     "data": {
      "image/png": "[encoded data removed]",
      "text/plain": [
       "<Figure size 432x288 with 1 Axes>"
      ]
     },
     "metadata": {
      "needs_background": "light"
     },
     "output_type": "display_data"
    },
    {
     "data": {
      "image/png": "[encoded data removed]",
      "text/plain": [
       "<Figure size 432x288 with 1 Axes>"
      ]
     },
     "metadata": {
      "needs_background": "light"
     },
     "output_type": "display_data"
    },
    {
     "name": "stdout",
     "output_type": "stream",
     "text": [
      "\tAdversarial data only:\n",
      "\t\tBaseline classifier accuracy: 99.060%\n",
      "\n",
      "\t\tCluster classifier accuracy: 81.000%\n",
      "\t\tInput data flagged as suspicious by detector: 47.150%\n",
      "\n",
      "Current epsilon: 0.24\n"
     ]
    },
    {
     "data": {
      "image/png": "[encoded data removed]",
      "text/plain": [
       "<Figure size 432x288 with 1 Axes>"
      ]
     },
     "metadata": {
      "needs_background": "light"
     },
     "output_type": "display_data"
    },
    {
     "data": {
      "image/png": "[encoded data removed]",
      "text/plain": [
       "<Figure size 432x288 with 1 Axes>"
      ]
     },
     "metadata": {
      "needs_background": "light"
     },
     "output_type": "display_data"
    },
    {
     "name": "stdout",
     "output_type": "stream",
     "text": [
      "\tAdversarial data only:\n",
      "\t\tBaseline classifier accuracy: 96.960%\n",
      "\n",
      "\t\tCluster classifier accuracy: 74.460%\n",
      "\t\tInput data flagged as suspicious by detector: 47.690%\n",
      "\n",
      "Current epsilon: 0.32\n"
     ]
    },
    {
     "data": {
      "image/png": "[encoded data removed]",
      "text/plain": [
       "<Figure size 432x288 with 1 Axes>"
      ]
     },
     "metadata": {
      "needs_background": "light"
     },
     "output_type": "display_data"
    },
    {
     "data": {
      "image/png": "[encoded data removed]",
      "text/plain": [
       "<Figure size 432x288 with 1 Axes>"
      ]
     },
     "metadata": {
      "needs_background": "light"
     },
     "output_type": "display_data"
    },
    {
     "name": "stdout",
     "output_type": "stream",
     "text": [
      "\tAdversarial data only:\n",
      "\t\tBaseline classifier accuracy: 84.340%\n",
      "\n",
      "\t\tCluster classifier accuracy: 65.700%\n",
      "\t\tInput data flagged as suspicious by detector: 48.600%\n"
     ]
    }
   ],
   "source": [
    "test_eps = [2e-2, 4e-2, 8e-2, 1.2e-1, 1.6e-1, 2.4e-1, 3.2e-1]\n",
    "print(\"Baseline training epsilon: %.2f\" % (1.2e-1))\n",
    "\n",
    "baseline_performance = dict()\n",
    "clustering_classifier_performance = dict()\n",
    "clustering_detector_performance = dict()\n",
    "\n",
    "test_dataloader = utils.create_dataloader(X_test, y_test)\n",
    "\n",
    "for eps in test_eps:\n",
    "    adv_test_data = utils.add_adversarial_noise(model, test_dataloader, eps=eps)\n",
    "    \n",
    "    print(\"\\nCurrent epsilon: %.2f\" % (eps))\n",
    "    \n",
    "    plt.imshow(X_test[0].reshape(dimensions))\n",
    "    plt.title(\"Clean Data Sample\")\n",
    "    plt.show()\n",
    "\n",
    "    plt.imshow(adv_test_data[0].reshape(dimensions))\n",
    "    plt.title(\"Adversarial Data Sample\")\n",
    "    plt.show()\n",
    "    \n",
    "    # Testing both classifiers on adversarial data only\n",
    "    # Baseline accuracy\n",
    "    baseline_performance[str(eps)] = utils.eval_model(baseline_model, adv_test_data, y_test) * 100\n",
    "    \n",
    "    print(\"\\tAdversarial data only:\")\n",
    "    print(\"\\t\\tBaseline classifier accuracy: %.3f%%\" % (baseline_performance[str(eps)]))\n",
    "\n",
    "    # Clustering classifier and adversarial detection accuracy\n",
    "    clustering_classifier_performance[str(eps)] = classifier.score(adv_test_data, y_test) * 100\n",
    "    clustering_detector_performance[str(eps)] = classifier.proportion_flagged * 100\n",
    "    \n",
    "    print(\"\\n\\t\\tCluster classifier accuracy: %.3f%%\" % (clustering_classifier_performance[str(eps)]))\n",
    "    print(\"\\t\\tInput data flagged as suspicious by detector: %.3f%%\" % (clustering_detector_performance[str(eps)]))\n",
    "    \n",
    "    # Testing both classifiers on both clean and adversarial data 1:1 ratio\n",
    "#     test_data = np.concatenate((X_test, adv_test_data), axis=0)\n",
    "\n",
    "#     print(\"\\n\\tClean and adversarial data:\")\n",
    "#     print(\"\\t\\tBaseline classifier accuracy: %.3f%%\" % (utils.eval_model(baseline_model, test_data, test_labels) * 100))\n",
    "\n",
    "#     print(\"\\n\\t\\tCluster classifier accuracy: %.3f%%\" % (classifier.score(test_data, test_labels) * 100))\n",
    "#     print(\"\\t\\tInput data flagged as suspicious by detector: %.3f%%\" % (classifier.proportion_flagged * 100))"
   ]
  },
  {
   "cell_type": "code",
   "execution_count": 10,
   "id": "953caf6e",
   "metadata": {},
   "outputs": [
    {
     "name": "stdout",
     "output_type": "stream",
     "text": [
      "Clustering Model Accuracies:  {'0.02': 95.14, '0.04': 93.33, '0.08': 88.19, '0.12': 83.48, '0.16': 81.0, '0.24': 74.46000000000001, '0.32': 65.7}\n",
      "Clustering Detector Accuracies:  {'0.02': 7.16, '0.04': 13.38, '0.08': 37.19, '0.12': 46.36, '0.16': 47.15, '0.24': 47.69, '0.32': 48.6}\n"
     ]
    }
   ],
   "source": [
    "print(\"Clustering Model Accuracies: \", clustering_classifier_performance)\n",
    "print(\"Clustering Detector Accuracies: \", clustering_detector_performance)"
   ]
  },
  {
   "cell_type": "code",
   "execution_count": null,
   "id": "84f5e328",
   "metadata": {},
   "outputs": [],
   "source": []
  }
 ],
 "metadata": {
  "kernelspec": {
   "display_name": "Python 3",
   "language": "python",
   "name": "python3"
  },
  "language_info": {
   "codemirror_mode": {
    "name": "ipython",
    "version": 3
   },
   "file_extension": ".py",
   "mimetype": "text/x-python",
   "name": "python",
   "nbconvert_exporter": "python",
   "pygments_lexer": "ipython3",
   "version": "3.9.5"
  }
 },
 "nbformat": 4,
 "nbformat_minor": 5
}
