{
 "cells": [
  {
   "cell_type": "code",
   "execution_count": 1,
   "id": "9d5bbef6",
   "metadata": {},
   "outputs": [],
   "source": [
    "import numpy as np\n",
    "import torch\n",
    "from torch import nn\n",
    "import matplotlib.pyplot as plt\n",
    "\n",
    "# Input space transformation (dimensionality reduction)\n",
    "from sklearn.decomposition import PCA\n",
    "from sklearn import random_projection\n",
    "from sklearn import cluster\n",
    "from sklearn.random_projection import johnson_lindenstrauss_min_dim\n",
    "\n",
    "import utils\n",
    "\n",
    "from clustering_adv_sample_detection import ClusterAdversarialClassifier as Classifier"
   ]
  },
  {
   "cell_type": "markdown",
   "id": "5f9cd71a",
   "metadata": {},
   "source": [
    "## Testing Cluster Adversarial Classifier"
   ]
  },
  {
   "cell_type": "markdown",
   "id": "7608baf5",
   "metadata": {},
   "source": [
    "### Load Data"
   ]
  },
  {
   "cell_type": "code",
   "execution_count": 2,
   "id": "9cbe5d69",
   "metadata": {},
   "outputs": [],
   "source": [
    "# MNIST\n",
    "X_train, y_train, X_test, y_test = utils.load_mnist()\n",
    "\n",
    "# Perfomance on MNIST with PCA transform, FC NN, and eps=3e-2: \n",
    "# Wall time: 1min 33s\n",
    "# Cluster Classifier Accuracy on clean data: 97.930\n",
    "# Cluster Classifier Accuracy on adversarial data: 92.460\n",
    "# Percentage of input data flagged as suspicious by detector: 45.670\n",
    "\n",
    "# Fashion MNIST\n",
    "#X_train, y_train, X_test, y_test = utils.load_fashion_mnist()\n",
    "\n",
    "# Perfomance on Fashion MNIST with PCA transform, FC NN, and eps=3e-2: \n",
    "# Wall time: 2min\n",
    "# Cluster Classifier Accuracy on clean data: 87.760\n",
    "# Cluster Classifier Accuracy on adversarial data: 79.280\n",
    "# Percentage of input data flagged as suspicious by detector: 46.340\n",
    "\n",
    "# CIFAR-10\n",
    "#X_train, y_train, X_test, y_test = utils.load_cifar10()\n",
    "\n",
    "# Perfomance on CIFAR-10 with PCA transform, FC NN, and eps=3e-2:  \n",
    "# Wall time: 8min 28s\n",
    "# Cluster Classifier Accuracy on clean data: 51.990\n",
    "# Cluster Classifier Accuracy on adversarial data: 43.500\n",
    "# Percentage of input data flagged as suspicious by detector: 55.520"
   ]
  },
  {
   "cell_type": "markdown",
   "id": "fee23a4c",
   "metadata": {},
   "source": [
    "### Create Black Box Attack (training data for baseline model)"
   ]
  },
  {
   "cell_type": "code",
   "execution_count": 3,
   "id": "a035c7f0",
   "metadata": {
    "scrolled": true
   },
   "outputs": [
    {
     "name": "stderr",
     "output_type": "stream",
     "text": [
      "c:\\users\\jason\\appdata\\local\\programs\\python\\python39\\lib\\site-packages\\torch\\nn\\functional.py:718: UserWarning: Named tensors and all their associated APIs are an experimental feature and subject to change. Please do not use them for anything important until they are released as stable. (Triggered internally at  ..\\c10/core/TensorImpl.h:1156.)\n",
      "  return torch.max_pool2d(input, kernel_size, stride, padding, dilation, ceil_mode)\n"
     ]
    },
    {
     "name": "stdout",
     "output_type": "stream",
     "text": [
      "Epoch 0 - Training loss: 0.25219657834595577\n",
      "Epoch 1 - Training loss: 0.11318132198754254\n",
      "Epoch 2 - Training loss: 0.10549541980445497\n",
      "Epoch 3 - Training loss: 0.08047573627273683\n",
      "Epoch 4 - Training loss: 0.06091399803970612\n",
      "\n",
      "Training Time (in minutes) = 2.7106473445892334\n",
      "Predicted Digit = 4\n",
      "Number Of Images Tested = 10000\n",
      "\n",
      "Model Accuracy = 0.9842\n"
     ]
    },
    {
     "data": {
      "image/png": "[encoded data removed]",
      "text/plain": [
       "<Figure size 432x648 with 2 Axes>"
      ]
     },
     "metadata": {
      "needs_background": "light"
     },
     "output_type": "display_data"
    }
   ],
   "source": [
    "# Train model for black box attack\n",
    "from model import My_VGG as Model\n",
    "\n",
    "attacked_model = Model(in_channels=1, in_size=28, num_classes=10)\n",
    "attacked_model = utils.train_model(attacked_model, X_train, X_test, y_train, y_test, epochs=5)\n",
    "\n",
    "# Create training and test data for baseline (adversarially trained) model\n",
    "\n",
    "baseline_training_eps = 2e-2\n",
    "\n",
    "train_dataloader = utils.create_dataloader(X_train, y_train)\n",
    "test_dataloader = utils.create_dataloader(X_test, y_test)\n",
    "adv_train_data = utils.add_adversarial_noise(attacked_model, train_dataloader, eps=baseline_training_eps)\n",
    "adv_test_data = utils.add_adversarial_noise(attacked_model, test_dataloader, eps=baseline_training_eps)\n",
    "\n",
    "baseline_train_data = np.concatenate((X_train, adv_train_data), axis=0)\n",
    "baseline_train_labels = np.concatenate((y_train, y_train), axis=0)\n",
    "\n",
    "test_data = np.concatenate((X_test, adv_test_data), axis=0)\n",
    "test_labels = np.concatenate((y_test, y_test), axis=0)"
   ]
  },
  {
   "cell_type": "markdown",
   "id": "bf8be513",
   "metadata": {},
   "source": [
    "## Train Baseline Model (adversarial training)"
   ]
  },
  {
   "cell_type": "code",
   "execution_count": 4,
   "id": "8098838d",
   "metadata": {},
   "outputs": [],
   "source": [
    "baseline_model = Model(in_channels=1, in_size=28, num_classes=10)"
   ]
  },
  {
   "cell_type": "code",
   "execution_count": 5,
   "id": "608d49fe",
   "metadata": {},
   "outputs": [
    {
     "name": "stdout",
     "output_type": "stream",
     "text": [
      "Epoch 0 - Training loss: 0.17587602903620475\n",
      "Epoch 1 - Training loss: 0.08932574900484062\n",
      "Epoch 2 - Training loss: 0.046647060580611285\n",
      "Epoch 3 - Training loss: 0.03295362294461539\n",
      "Epoch 4 - Training loss: 0.03146788619817849\n",
      "\n",
      "Training Time (in minutes) = 4.839011092980702\n",
      "Predicted Digit = 9\n",
      "Number Of Images Tested = 20000\n",
      "\n",
      "Model Accuracy = 0.99145\n"
     ]
    },
    {
     "data": {
      "image/png": "[encoded data removed]",
      "text/plain": [
       "<Figure size 432x648 with 2 Axes>"
      ]
     },
     "metadata": {
      "needs_background": "light"
     },
     "output_type": "display_data"
    }
   ],
   "source": [
    "baseline_model = utils.train_model(baseline_model, baseline_train_data, test_data, baseline_train_labels, test_labels, epochs=5)"
   ]
  },
  {
   "cell_type": "markdown",
   "id": "520d4e49",
   "metadata": {},
   "source": [
    "## Train Clustering Classifier"
   ]
  },
  {
   "cell_type": "markdown",
   "id": "a2de22c5",
   "metadata": {},
   "source": [
    "### Train Base Neural Network For Clustering Detector/Classifier"
   ]
  },
  {
   "cell_type": "code",
   "execution_count": 6,
   "id": "e667ce65",
   "metadata": {},
   "outputs": [],
   "source": [
    "model = Model(in_channels=1, in_size=28, num_classes=10)"
   ]
  },
  {
   "cell_type": "code",
   "execution_count": 7,
   "id": "3f8dc2b4",
   "metadata": {},
   "outputs": [
    {
     "name": "stdout",
     "output_type": "stream",
     "text": [
      "Epoch 0 - Training loss: 0.27135888617738946\n",
      "Epoch 1 - Training loss: 0.11349387483852415\n",
      "Epoch 2 - Training loss: 0.10997303090633176\n",
      "Epoch 3 - Training loss: 0.0763035626890357\n",
      "Epoch 4 - Training loss: 0.06584436082160448\n",
      "\n",
      "Training Time (in minutes) = 2.410050586859385\n",
      "Predicted Digit = 8\n",
      "Number Of Images Tested = 10000\n",
      "\n",
      "Model Accuracy = 0.9871\n"
     ]
    },
    {
     "data": {
      "image/png": "[encoded data removed]",
      "text/plain": [
       "<Figure size 432x648 with 2 Axes>"
      ]
     },
     "metadata": {
      "needs_background": "light"
     },
     "output_type": "display_data"
    }
   ],
   "source": [
    "# Now let's start training the network\n",
    "# Regular training, on clean data only\n",
    "model = utils.train_model(model, X_train, X_test, y_train, y_test, epochs=5)"
   ]
  },
  {
   "cell_type": "markdown",
   "id": "98b0cbf2",
   "metadata": {},
   "source": [
    "### Input Space (Dimensionality Reduction) Transforms - optional"
   ]
  },
  {
   "cell_type": "code",
   "execution_count": 8,
   "id": "e366dcde",
   "metadata": {},
   "outputs": [],
   "source": [
    "# SKLearn method for determining a \"minimum\" number of components to reduce the dataset to\n",
    "n_comp = johnson_lindenstrauss_min_dim(X_train.shape[0], eps=.99)\n",
    "\n",
    "# Control (no transform): Wall time: 2min 53s, clean: 0.9733, adv: 0.8829\n",
    "#transformer = None\n",
    "\n",
    "# GaussianRandomProjection(n_components=374): Wall time: 1min 47s, clean: 0.9737, adv: 0.8892\n",
    "# 2nd run: Wall time: 1min 52s, clean: 0.9727, adv: 0.911\n",
    "#transformer = random_projection.GaussianRandomProjection(n_components=n_comp)\n",
    "\n",
    "# SparseRandomProjection(n_components=374): Wall time: 1min 46s, clean: 0.9744, adv: 0.9247\n",
    "# 2nd run: Wall time: 1min 47s, clean: 0.9706, adv: 0.8998\n",
    "#transformer = random_projection.SparseRandomProjection(n_components=n_comp)\n",
    "\n",
    "# PCA(n_components=374): Wall time: 1min 53s, clean: 0.9783, adv: 0.9137\n",
    "# 2nd run: Wall time: 1min 32s, clean: 0.9757, adv: 0.9028\n",
    "transformer = PCA(n_components=n_comp)\n",
    "\n",
    "# FeatureAgglomeration(n_clusters=10):  Wall time: 46.2 s, clean: 0.8512, adv: 0.782\n",
    "#transformer = cluster.FeatureAgglomeration(n_clusters=10)"
   ]
  },
  {
   "cell_type": "markdown",
   "id": "ecb6625a",
   "metadata": {},
   "source": [
    "### Fitting the clustering classifier on clean data"
   ]
  },
  {
   "cell_type": "code",
   "execution_count": 9,
   "id": "5a575343",
   "metadata": {},
   "outputs": [],
   "source": [
    "classifier = Classifier(model, transformer)\n",
    "\n",
    "classifier.fit(X_train, y_train)"
   ]
  },
  {
   "cell_type": "markdown",
   "id": "0ff2a48d",
   "metadata": {},
   "source": [
    "## Evaluation"
   ]
  },
  {
   "cell_type": "markdown",
   "id": "1e3531d7",
   "metadata": {},
   "source": [
    "### Scoring classifiers on clean data"
   ]
  },
  {
   "cell_type": "code",
   "execution_count": 10,
   "id": "38f1b889",
   "metadata": {},
   "outputs": [
    {
     "name": "stdout",
     "output_type": "stream",
     "text": [
      "Baseline classifier on clean test data: \n",
      "Model Accuracy = 0.9911\n",
      "\n",
      "Cluster Classifier Accuracy on clean test data: 0.980\n",
      "Percentage of input data flagged as suspicious by detector: 2.410\n"
     ]
    }
   ],
   "source": [
    "print(\"Baseline classifier on clean test data: \")\n",
    "utils.eval_model(baseline_model, X_test, y_test)\n",
    "\n",
    "print(\"\\nCluster Classifier Accuracy on clean test data: %.3f\" % (classifier.score(X_test, y_test)))\n",
    "print(\"Percentage of input data flagged as suspicious by detector: %.3f\" % (classifier.proportion_flagged * 100))"
   ]
  },
  {
   "cell_type": "markdown",
   "id": "7c9ddf53",
   "metadata": {},
   "source": [
    "## Evaluating on adversarial data"
   ]
  },
  {
   "cell_type": "code",
   "execution_count": 11,
   "id": "9d53c111",
   "metadata": {},
   "outputs": [
    {
     "name": "stdout",
     "output_type": "stream",
     "text": [
      "\n",
      "Current epsilon: 0.02\n",
      "\n",
      "Adversarial data only:\n",
      "\n",
      "Baseline classifier: \n",
      "Model Accuracy = 0.9918\n",
      "\n",
      "Cluster classifier: 0.975\n",
      "Percentage of input data flagged as suspicious by detector: 3.390\n",
      "\n",
      "Clean and adversarial data:\n",
      "\n",
      "Baseline classifier: \n",
      "Model Accuracy = 0.99145\n",
      "\n",
      "Cluster classifier: 0.977\n",
      "Percentage of input data flagged as suspicious by detector: 2.900\n",
      "\n",
      "Current epsilon: 0.04\n",
      "\n",
      "Adversarial data only:\n",
      "\n",
      "Baseline classifier: \n",
      "Model Accuracy = 0.9911\n",
      "\n",
      "Cluster classifier: 0.970\n",
      "Percentage of input data flagged as suspicious by detector: 5.750\n",
      "\n",
      "Clean and adversarial data:\n",
      "\n",
      "Baseline classifier: \n",
      "Model Accuracy = 0.9911\n",
      "\n",
      "Cluster classifier: 0.975\n",
      "Percentage of input data flagged as suspicious by detector: 4.080\n",
      "\n",
      "Current epsilon: 0.08\n",
      "\n",
      "Adversarial data only:\n",
      "\n",
      "Baseline classifier: \n",
      "Model Accuracy = 0.9876\n",
      "\n",
      "Cluster classifier: 0.954\n",
      "Percentage of input data flagged as suspicious by detector: 19.030\n",
      "\n",
      "Clean and adversarial data:\n",
      "\n",
      "Baseline classifier: \n",
      "Model Accuracy = 0.98935\n",
      "\n",
      "Cluster classifier: 0.967\n",
      "Percentage of input data flagged as suspicious by detector: 10.720\n",
      "\n",
      "Current epsilon: 0.16\n",
      "\n",
      "Adversarial data only:\n",
      "\n",
      "Baseline classifier: \n",
      "Model Accuracy = 0.902\n",
      "\n",
      "Cluster classifier: 0.891\n",
      "Percentage of input data flagged as suspicious by detector: 68.820\n",
      "\n",
      "Clean and adversarial data:\n",
      "\n",
      "Baseline classifier: \n",
      "Model Accuracy = 0.94655\n",
      "\n",
      "Cluster classifier: 0.936\n",
      "Percentage of input data flagged as suspicious by detector: 35.615\n",
      "\n",
      "Current epsilon: 0.32\n",
      "\n",
      "Adversarial data only:\n",
      "\n",
      "Baseline classifier: \n",
      "Model Accuracy = 0.3052\n",
      "\n",
      "Cluster classifier: 0.544\n",
      "Percentage of input data flagged as suspicious by detector: 67.910\n",
      "\n",
      "Clean and adversarial data:\n",
      "\n",
      "Baseline classifier: \n",
      "Model Accuracy = 0.64815\n",
      "\n",
      "Cluster classifier: 0.762\n",
      "Percentage of input data flagged as suspicious by detector: 35.160\n"
     ]
    }
   ],
   "source": [
    "test_eps = [2e-2, 4e-2, 8e-2, 1.6e-1, 3.2e-1]\n",
    "\n",
    "for eps in test_eps:\n",
    "    adv_test_data = utils.add_adversarial_noise(attacked_model, test_dataloader, eps=eps)\n",
    "    test_data = np.concatenate((X_test, adv_test_data), axis=0)\n",
    "    \n",
    "    print(\"\\nCurrent epsilon: %.2f\\n\" % (eps))\n",
    "    \n",
    "    # Base model accuracy on adversarial data\n",
    "#     print(\"Underlying cnn of clustering classifier accuracy on adversarial data: \")\n",
    "#     utils.eval_model(model, adv_test_data, y_test)\n",
    "    \n",
    "    # Testing both classifiers on adversarial data only\n",
    "    print(\"Adversarial data only:\\n\")\n",
    "    print(\"Baseline classifier: \")\n",
    "    utils.eval_model(baseline_model, adv_test_data, y_test)\n",
    "\n",
    "    print(\"\\nCluster classifier: %.3f\" % (classifier.score(adv_test_data, y_test)))\n",
    "    print(\"Percentage of input data flagged as suspicious by detector: %.3f\" % (classifier.proportion_flagged * 100))\n",
    "    \n",
    "    print(\"\\nClean and adversarial data:\\n\")\n",
    "    # Testing both classifiers on both clean and adversarial data 1:1 ratio\n",
    "    print(\"Baseline classifier: \")\n",
    "    utils.eval_model(baseline_model, test_data, test_labels)\n",
    "\n",
    "    print(\"\\nCluster classifier: %.3f\" % (classifier.score(test_data, test_labels)))\n",
    "    print(\"Percentage of input data flagged as suspicious by detector: %.3f\" % (classifier.proportion_flagged * 100))"
   ]
  },
  {
   "cell_type": "code",
   "execution_count": null,
   "id": "4466d838",
   "metadata": {},
   "outputs": [],
   "source": []
  }
 ],
 "metadata": {
  "kernelspec": {
   "display_name": "Python 3",
   "language": "python",
   "name": "python3"
  },
  "language_info": {
   "codemirror_mode": {
    "name": "ipython",
    "version": 3
   },
   "file_extension": ".py",
   "mimetype": "text/x-python",
   "name": "python",
   "nbconvert_exporter": "python",
   "pygments_lexer": "ipython3",
   "version": "3.9.5"
  }
 },
 "nbformat": 4,
 "nbformat_minor": 5
}
