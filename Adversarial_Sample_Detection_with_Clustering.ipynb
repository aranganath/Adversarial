{
 "cells": [
  {
   "cell_type": "code",
   "execution_count": 1,
   "id": "9d5bbef6",
   "metadata": {},
   "outputs": [],
   "source": [
    "import numpy as np\n",
    "import torch\n",
    "from torch import nn\n",
    "import matplotlib.pyplot as plt\n",
    "\n",
    "# Input space transformation (dimensionality reduction)\n",
    "from sklearn.decomposition import PCA\n",
    "from sklearn.manifold import TSNE\n",
    "import umap\n",
    "from sklearn import random_projection\n",
    "from sklearn import cluster\n",
    "from sklearn.random_projection import johnson_lindenstrauss_min_dim\n",
    "\n",
    "import utils\n",
    "\n",
    "from ClusteringAdvClassifier import ClusterAdversarialClassifier as Classifier"
   ]
  },
  {
   "cell_type": "markdown",
   "id": "5f9cd71a",
   "metadata": {},
   "source": [
    "# Testing Cluster Adversarial Classifier"
   ]
  },
  {
   "cell_type": "markdown",
   "id": "7608baf5",
   "metadata": {},
   "source": [
    "## Load Data"
   ]
  },
  {
   "cell_type": "code",
   "execution_count": 2,
   "id": "9cbe5d69",
   "metadata": {},
   "outputs": [],
   "source": [
    "# MNIST\n",
    "X_train, y_train, X_test, y_test = utils.load_mnist()\n",
    "channels, size, classes = 1, 28, 10\n",
    "dimensions = (size, size)\n",
    "\n",
    "# Fashion MNIST\n",
    "#X_train, y_train, X_test, y_test = utils.load_fashion_mnist()\n",
    "#channels, size, classes = 1, 28, 10\n",
    "#dimensions = (size, size)\n",
    "\n",
    "# CIFAR-10\n",
    "#X_train, y_train, X_test, y_test = utils.load_cifar10()\n",
    "#channels, size, classes = 3, 32, 10\n",
    "#dimensions = (size, size, channels)"
   ]
  },
  {
   "cell_type": "markdown",
   "id": "fee23a4c",
   "metadata": {},
   "source": [
    "## Create Black Box Attack (training data for baseline model)"
   ]
  },
  {
   "cell_type": "markdown",
   "id": "f7bb8177",
   "metadata": {},
   "source": [
    "### Train model for black box attack"
   ]
  },
  {
   "cell_type": "code",
   "execution_count": 3,
   "id": "a035c7f0",
   "metadata": {
    "scrolled": true
   },
   "outputs": [
    {
     "name": "stderr",
     "output_type": "stream",
     "text": [
      "c:\\users\\jason\\appdata\\local\\programs\\python\\python39\\lib\\site-packages\\torch\\nn\\functional.py:718: UserWarning: Named tensors and all their associated APIs are an experimental feature and subject to change. Please do not use them for anything important until they are released as stable. (Triggered internally at  ..\\c10/core/TensorImpl.h:1156.)\n",
      "  return torch.max_pool2d(input, kernel_size, stride, padding, dilation, ceil_mode)\n"
     ]
    },
    {
     "name": "stdout",
     "output_type": "stream",
     "text": [
      "Epoch 0 - Training loss: 0.2693243377530741\n",
      "Epoch 1 - Training loss: 0.11178697283907946\n",
      "Epoch 2 - Training loss: 0.1002232917487482\n",
      "Epoch 3 - Training loss: 0.1054664682677192\n",
      "Epoch 4 - Training loss: 0.03941948946681816\n",
      "\n",
      "Training Time (in minutes) = 2.554802437623342\n",
      "Predicted Class = 5\n",
      "Number Of Images Tested = 10000\n",
      "\n",
      "Model Accuracy = 0.9906\n"
     ]
    },
    {
     "data": {
      "image/png": "[encoded data removed]",
      "text/plain": [
       "<Figure size 432x648 with 2 Axes>"
      ]
     },
     "metadata": {
      "needs_background": "light"
     },
     "output_type": "display_data"
    }
   ],
   "source": [
    "from model import My_VGG as Model\n",
    "\n",
    "attacked_model = Model(in_channels=channels, in_size=size, num_classes=classes)\n",
    "attacked_model = utils.train_model(attacked_model, X_train, X_test, y_train, y_test, epochs=5)"
   ]
  },
  {
   "cell_type": "markdown",
   "id": "04c8a644",
   "metadata": {},
   "source": [
    "### Create training and test data for baseline (adversarially trained) model"
   ]
  },
  {
   "cell_type": "code",
   "execution_count": 4,
   "id": "e2304dcd",
   "metadata": {},
   "outputs": [],
   "source": [
    "baseline_training_eps = 2e-2\n",
    "\n",
    "train_dataloader = utils.create_dataloader(X_train, y_train)\n",
    "test_dataloader = utils.create_dataloader(X_test, y_test)\n",
    "adv_train_data = utils.add_adversarial_noise(attacked_model, train_dataloader, eps=baseline_training_eps)\n",
    "adv_test_data = utils.add_adversarial_noise(attacked_model, test_dataloader, eps=baseline_training_eps)\n",
    "\n",
    "baseline_train_data = np.concatenate((X_train, adv_train_data), axis=0)\n",
    "baseline_train_labels = np.concatenate((y_train, y_train), axis=0)\n",
    "\n",
    "test_data = np.concatenate((X_test, adv_test_data), axis=0)\n",
    "test_labels = np.concatenate((y_test, y_test), axis=0)"
   ]
  },
  {
   "cell_type": "code",
   "execution_count": 5,
   "id": "dedf4f38",
   "metadata": {},
   "outputs": [
    {
     "data": {
      "image/png": "[encoded data removed]",
      "text/plain": [
       "<Figure size 432x288 with 1 Axes>"
      ]
     },
     "metadata": {
      "needs_background": "light"
     },
     "output_type": "display_data"
    },
    {
     "data": {
      "image/png": "[encoded data removed]",
      "text/plain": [
       "<Figure size 432x288 with 1 Axes>"
      ]
     },
     "metadata": {
      "needs_background": "light"
     },
     "output_type": "display_data"
    }
   ],
   "source": [
    "plt.imshow(X_train[0].reshape(dimensions))\n",
    "plt.show()\n",
    "\n",
    "plt.imshow(adv_train_data[0].reshape(dimensions))\n",
    "plt.show()"
   ]
  },
  {
   "cell_type": "markdown",
   "id": "bf8be513",
   "metadata": {},
   "source": [
    "## Train Baseline Model (adversarial training)"
   ]
  },
  {
   "cell_type": "code",
   "execution_count": 6,
   "id": "8098838d",
   "metadata": {},
   "outputs": [],
   "source": [
    "baseline_model = Model(in_channels=channels, in_size=size, num_classes=classes)"
   ]
  },
  {
   "cell_type": "code",
   "execution_count": 7,
   "id": "608d49fe",
   "metadata": {},
   "outputs": [
    {
     "name": "stdout",
     "output_type": "stream",
     "text": [
      "Epoch 0 - Training loss: 0.17848245758177944\n",
      "Epoch 1 - Training loss: 0.0965152207682076\n",
      "Epoch 2 - Training loss: 0.051541712788645555\n",
      "Epoch 3 - Training loss: 0.03482149326417207\n",
      "Epoch 4 - Training loss: 0.026030291776424505\n",
      "\n",
      "Training Time (in minutes) = 5.124779093265533\n",
      "Predicted Class = 1\n",
      "Number Of Images Tested = 20000\n",
      "\n",
      "Model Accuracy = 0.9924\n"
     ]
    },
    {
     "data": {
      "image/png": "[encoded data removed]",
      "text/plain": [
       "<Figure size 432x648 with 2 Axes>"
      ]
     },
     "metadata": {
      "needs_background": "light"
     },
     "output_type": "display_data"
    }
   ],
   "source": [
    "baseline_model = utils.train_model(baseline_model, baseline_train_data, test_data, baseline_train_labels, test_labels, epochs=5)"
   ]
  },
  {
   "cell_type": "markdown",
   "id": "520d4e49",
   "metadata": {},
   "source": [
    "## Train Clustering Classifier"
   ]
  },
  {
   "cell_type": "markdown",
   "id": "a2de22c5",
   "metadata": {},
   "source": [
    "### Train Base Neural Network For Clustering Detector/Classifier"
   ]
  },
  {
   "cell_type": "code",
   "execution_count": 8,
   "id": "e667ce65",
   "metadata": {},
   "outputs": [],
   "source": [
    "model = Model(in_channels=channels, in_size=size, num_classes=classes)"
   ]
  },
  {
   "cell_type": "code",
   "execution_count": 9,
   "id": "3f8dc2b4",
   "metadata": {},
   "outputs": [
    {
     "name": "stdout",
     "output_type": "stream",
     "text": [
      "Epoch 0 - Training loss: 0.23322200667282353\n",
      "Epoch 1 - Training loss: 0.11248995469159787\n",
      "Epoch 2 - Training loss: 0.11149498268434926\n",
      "Epoch 3 - Training loss: 0.06727379549303274\n",
      "Epoch 4 - Training loss: 0.04492101508417476\n",
      "\n",
      "Training Time (in minutes) = 2.5458789507548016\n",
      "Predicted Class = 8\n",
      "Number Of Images Tested = 10000\n",
      "\n",
      "Model Accuracy = 0.9864\n"
     ]
    },
    {
     "data": {
      "image/png": "[encoded data removed]",
      "text/plain": [
       "<Figure size 432x648 with 2 Axes>"
      ]
     },
     "metadata": {
      "needs_background": "light"
     },
     "output_type": "display_data"
    }
   ],
   "source": [
    "# Now let's start training the network\n",
    "# Regular training, on clean data only\n",
    "model = utils.train_model(model, X_train, X_test, y_train, y_test, epochs=5)"
   ]
  },
  {
   "cell_type": "markdown",
   "id": "98b0cbf2",
   "metadata": {},
   "source": [
    "### Input Space (Dimensionality Reduction) Transforms - optional"
   ]
  },
  {
   "cell_type": "code",
   "execution_count": 10,
   "id": "e366dcde",
   "metadata": {},
   "outputs": [],
   "source": [
    "# SKLearn method for determining a \"minimum\" number of components to reduce the dataset to\n",
    "n_comp = johnson_lindenstrauss_min_dim(X_train.shape[0], eps=.99)\n",
    "\n",
    "# Control (no transform): Wall time: 2min 53s, clean: 0.9733, adv: 0.8829\n",
    "transformer = None\n",
    "\n",
    "# GaussianRandomProjection(n_components=374): Wall time: 1min 47s, clean: 0.9737, adv: 0.8892\n",
    "# 2nd run: Wall time: 1min 52s, clean: 0.9727, adv: 0.911\n",
    "#transformer = random_projection.GaussianRandomProjection(n_components=n_comp)\n",
    "\n",
    "# SparseRandomProjection(n_components=374): Wall time: 1min 46s, clean: 0.9744, adv: 0.9247\n",
    "# 2nd run: Wall time: 1min 47s, clean: 0.9706, adv: 0.8998\n",
    "#transformer = random_projection.SparseRandomProjection(n_components=n_comp)\n",
    "\n",
    "# PCA(n_components=374): Wall time: 1min 53s, clean: 0.9783, adv: 0.9137\n",
    "# 2nd run: Wall time: 1min 32s, clean: 0.9757, adv: 0.9028\n",
    "#transformer = PCA(n_components=n_comp)\n",
    "\n",
    "# FeatureAgglomeration(n_clusters=10):  Wall time: 46.2 s, clean: 0.8512, adv: 0.782\n",
    "#transformer = cluster.FeatureAgglomeration(n_clusters=10)\n",
    "\n",
    "# TSNE\n",
    "# transformer = TSNE(n_components=n_comp, \n",
    "#                    #perplexity = 50, \n",
    "#                    #n_iter = 10000, \n",
    "#                    method=\"exact\")\n",
    "# TSNE doesn't come up with a single embedding and apply that embedding to different datasets, it operates directly on the data\n",
    "# provided to produce the embedding. This means that using a different dataset for train/test time can produce vastly different \n",
    "# embeddings, which doesn't lend itself well to our use-case, which is fitting test-time embeddings into clusters made at \n",
    "# training time. \n",
    "# It is possible to append test data to train data so that the embedding at test time is similar to that of training time. \n",
    "# However, this doesn't scale well, and on my PC I was running into memory issues just trying to apply TSNE on the training \n",
    "# data alone (I have about 16 gigs of RAM, sklearn wanted to allocate 28.6 gigs for TSNE)\n",
    "# Theoretically, I could try applying PCA to reduce dimensionality as a first step and then apply TSNE to get around this. That\n",
    "# would still require including the (reduced dimensionality) training set for creating the embedding at test time though. \n",
    "\n",
    "# UMAP\n",
    "# transformer = umap.UMAP(n_components = n_comp,\n",
    "#                         min_dist = 0.05,\n",
    "#                         n_neighbors = 15,\n",
    "#                         metric = \"euclidean\")"
   ]
  },
  {
   "cell_type": "markdown",
   "id": "ecb6625a",
   "metadata": {},
   "source": [
    "### Fitting the clustering classifier on clean data"
   ]
  },
  {
   "cell_type": "code",
   "execution_count": 11,
   "id": "22ff64ab",
   "metadata": {},
   "outputs": [],
   "source": [
    "# Trying out different parameters for the clustering algorithm:\n",
    "# Base: C=1, no transform\n",
    "# Clean data flagged as suspicious by detector: 2.820%\n",
    "# {'0.02': 97.28999999999999, '0.04': 96.53, '0.08': 93.91000000000001, '0.16': 83.16, '0.24': 64.78, '0.32': 48.89}\n",
    "# {'0.02': 3.9600000000000004, '0.04': 5.83, '0.08': 14.02, '0.16': 47.75, '0.24': 55.300000000000004, '0.32': 58.68}\n",
    "\n",
    "# C = 10, no transform\n",
    "# Clean data flagged as suspicious by detector: 2.000%\n",
    "# {'0.02': 97.97, '0.04': 97.18, '0.08': 94.72, '0.16': 81.39, '0.24': 68.08, '0.32': 53.21}\n",
    "# {'0.02': 2.56, '0.04': 3.85, '0.08': 9.180000000000001, '0.16': 41.980000000000004, '0.24': 56.19, '0.32': 62.63999999999999}\n",
    "\n",
    "# C = 15, no transform\n",
    "# Clean data flagged as suspicious by detector: 1.930%\n",
    "# {'0.02': 97.05, '0.04': 96.22, '0.08': 92.35, '0.16': 84.15, '0.24': 68.58999999999999, '0.32': 52.1}\n",
    "# {'0.02': 2.58, '0.04': 3.5000000000000004, '0.08': 8.51, '0.16': 37.45, '0.24': 52.459999999999994, '0.32': 60.96}\n",
    "\n",
    "# C = 20, no transform\n",
    "# Clean data flagged as suspicious by detector: 1.800%\n",
    "# {'0.02': 97.92999999999999, '0.04': 97.33000000000001, '0.08': 95.08, '0.16': 84.57000000000001, '0.24': 67.49000000000001, '0.32': 47.910000000000004}\n",
    "# {'0.02': 2.32, '0.04': 3.2300000000000004, '0.08': 7.7, '0.16': 38.0, '0.24': 65.59, '0.32': 75.13}\n",
    "\n",
    "########### Best so far\n",
    "# C = 25, no transform\n",
    "# Clean data flagged as suspicious by detector: 1.840%\n",
    "# {'0.02': 97.76, '0.04': 97.25, '0.08': 95.19999999999999, '0.16': 87.52, '0.24': 73.04, '0.32': 54.510000000000005}\n",
    "# {'0.02': 2.12, '0.04': 2.83, '0.08': 6.21, '0.16': 26.14, '0.24': 40.82, '0.32': 48.18}\n",
    "\n",
    "# C = 30, no transform\n",
    "# Clean data flagged as suspicious by detector: 1.820%\n",
    "# {'0.02': 97.72999999999999, '0.04': 96.91, '0.08': 93.61, '0.16': 82.12, '0.24': 65.11, '0.32': 43.919999999999995}\n",
    "# {'0.02': 2.2800000000000002, '0.04': 3.2399999999999998, '0.08': 8.34, '0.16': 41.97, '0.24': 61.51, '0.32': 59.06}\n",
    "\n",
    "# C = 50, no transform\n",
    "# Clean data flagged as suspicious by detector: 1.880%\n",
    "# {'0.02': 97.67, '0.04': 96.63000000000001, '0.08': 92.86, '0.16': 79.74, '0.24': 67.77, '0.32': 46.94}\n",
    "# {'0.02': 2.41, '0.04': 3.44, '0.08': 7.17, '0.16': 33.39, '0.24': 63.93, '0.32': 75.21}\n",
    "\n",
    "# C = 100, no transform\n",
    "# Clean data flagged as suspicious by detector: 1.810%\n",
    "# {'0.02': 97.46000000000001, '0.04': 96.50999999999999, '0.08': 92.94, '0.16': 81.55, '0.24': 62.06, '0.32': 45.24}\n",
    "# {'0.02': 2.4899999999999998, '0.04': 3.75, '0.08': 10.02, '0.16': 39.739999999999995, '0.24': 60.550000000000004, '0.32': 62.27}"
   ]
  },
  {
   "cell_type": "code",
   "execution_count": 12,
   "id": "5a575343",
   "metadata": {},
   "outputs": [],
   "source": [
    "classifier = Classifier(model, input_transform = transformer, SVC_C = 25)\n",
    "\n",
    "classifier.fit(X_train, y_train)"
   ]
  },
  {
   "cell_type": "code",
   "execution_count": 13,
   "id": "6f38db9d",
   "metadata": {},
   "outputs": [
    {
     "name": "stdout",
     "output_type": "stream",
     "text": [
      "10\n"
     ]
    }
   ],
   "source": [
    "print(classifier.output_cluster.n_features_in_)"
   ]
  },
  {
   "cell_type": "markdown",
   "id": "0ff2a48d",
   "metadata": {},
   "source": [
    "## Evaluation"
   ]
  },
  {
   "cell_type": "markdown",
   "id": "1e3531d7",
   "metadata": {},
   "source": [
    "### Scoring classifiers on clean data"
   ]
  },
  {
   "cell_type": "code",
   "execution_count": 14,
   "id": "38f1b889",
   "metadata": {},
   "outputs": [
    {
     "name": "stdout",
     "output_type": "stream",
     "text": [
      "Baseline classifier on clean test data: 99.190%\n",
      "\n",
      "Cluster Classifier Accuracy on clean test data: 97.950%\n",
      "Clean data flagged as suspicious by detector: 1.800%\n"
     ]
    }
   ],
   "source": [
    "print(\"Baseline classifier on clean test data: %.3f%%\" % (utils.eval_model(baseline_model, X_test, y_test) * 100))\n",
    "\n",
    "print(\"\\nCluster Classifier Accuracy on clean test data: %.3f%%\" % (classifier.score(X_test, y_test) * 100))\n",
    "print(\"Clean data flagged as suspicious by detector: %.3f%%\" % (classifier.proportion_flagged * 100))"
   ]
  },
  {
   "cell_type": "markdown",
   "id": "7c9ddf53",
   "metadata": {},
   "source": [
    "## Evaluating on adversarial data"
   ]
  },
  {
   "cell_type": "code",
   "execution_count": 15,
   "id": "9d53c111",
   "metadata": {
    "scrolled": false
   },
   "outputs": [
    {
     "name": "stdout",
     "output_type": "stream",
     "text": [
      "Baseline training epsilon: 0.02\n",
      "\n",
      "Current epsilon: 0.02\n"
     ]
    },
    {
     "data": {
      "image/png": "[encoded data removed]",
      "text/plain": [
       "<Figure size 432x288 with 1 Axes>"
      ]
     },
     "metadata": {
      "needs_background": "light"
     },
     "output_type": "display_data"
    },
    {
     "data": {
      "image/png": "[encoded data removed]",
      "text/plain": [
       "<Figure size 432x288 with 1 Axes>"
      ]
     },
     "metadata": {
      "needs_background": "light"
     },
     "output_type": "display_data"
    },
    {
     "name": "stdout",
     "output_type": "stream",
     "text": [
      "\tAdversarial data only:\n",
      "\t\tBaseline classifier accuracy: 99.290%\n",
      "\n",
      "\t\tCluster classifier accuracy: 97.510%\n",
      "\t\tInput data flagged as suspicious by detector: 2.270%\n",
      "\n",
      "Current epsilon: 0.04\n"
     ]
    },
    {
     "data": {
      "image/png": "[encoded data removed]",
      "text/plain": [
       "<Figure size 432x288 with 1 Axes>"
      ]
     },
     "metadata": {
      "needs_background": "light"
     },
     "output_type": "display_data"
    },
    {
     "data": {
      "image/png": "[encoded data removed]",
      "text/plain": [
       "<Figure size 432x288 with 1 Axes>"
      ]
     },
     "metadata": {
      "needs_background": "light"
     },
     "output_type": "display_data"
    },
    {
     "name": "stdout",
     "output_type": "stream",
     "text": [
      "\tAdversarial data only:\n",
      "\t\tBaseline classifier accuracy: 99.280%\n",
      "\n",
      "\t\tCluster classifier accuracy: 96.330%\n",
      "\t\tInput data flagged as suspicious by detector: 3.180%\n",
      "\n",
      "Current epsilon: 0.08\n"
     ]
    },
    {
     "data": {
      "image/png": "[encoded data removed]",
      "text/plain": [
       "<Figure size 432x288 with 1 Axes>"
      ]
     },
     "metadata": {
      "needs_background": "light"
     },
     "output_type": "display_data"
    },
    {
     "data": {
      "image/png": "[encoded data removed]",
      "text/plain": [
       "<Figure size 432x288 with 1 Axes>"
      ]
     },
     "metadata": {
      "needs_background": "light"
     },
     "output_type": "display_data"
    },
    {
     "name": "stdout",
     "output_type": "stream",
     "text": [
      "\tAdversarial data only:\n",
      "\t\tBaseline classifier accuracy: 98.920%\n",
      "\n",
      "\t\tCluster classifier accuracy: 91.600%\n",
      "\t\tInput data flagged as suspicious by detector: 9.610%\n",
      "\n",
      "Current epsilon: 0.16\n"
     ]
    },
    {
     "data": {
      "image/png": "[encoded data removed]",
      "text/plain": [
       "<Figure size 432x288 with 1 Axes>"
      ]
     },
     "metadata": {
      "needs_background": "light"
     },
     "output_type": "display_data"
    },
    {
     "data": {
      "image/png": "[encoded data removed]",
      "text/plain": [
       "<Figure size 432x288 with 1 Axes>"
      ]
     },
     "metadata": {
      "needs_background": "light"
     },
     "output_type": "display_data"
    },
    {
     "name": "stdout",
     "output_type": "stream",
     "text": [
      "\tAdversarial data only:\n",
      "\t\tBaseline classifier accuracy: 88.730%\n",
      "\n",
      "\t\tCluster classifier accuracy: 82.050%\n",
      "\t\tInput data flagged as suspicious by detector: 53.440%\n",
      "\n",
      "Current epsilon: 0.24\n"
     ]
    },
    {
     "data": {
      "image/png": "[encoded data removed]",
      "text/plain": [
       "<Figure size 432x288 with 1 Axes>"
      ]
     },
     "metadata": {
      "needs_background": "light"
     },
     "output_type": "display_data"
    },
    {
     "data": {
      "image/png": "[encoded data removed]",
      "text/plain": [
       "<Figure size 432x288 with 1 Axes>"
      ]
     },
     "metadata": {
      "needs_background": "light"
     },
     "output_type": "display_data"
    },
    {
     "name": "stdout",
     "output_type": "stream",
     "text": [
      "\tAdversarial data only:\n",
      "\t\tBaseline classifier accuracy: 59.350%\n",
      "\n",
      "\t\tCluster classifier accuracy: 67.250%\n",
      "\t\tInput data flagged as suspicious by detector: 69.640%\n",
      "\n",
      "Current epsilon: 0.32\n"
     ]
    },
    {
     "data": {
      "image/png": "[encoded data removed]",
      "text/plain": [
       "<Figure size 432x288 with 1 Axes>"
      ]
     },
     "metadata": {
      "needs_background": "light"
     },
     "output_type": "display_data"
    },
    {
     "data": {
      "image/png": "[encoded data removed]",
      "text/plain": [
       "<Figure size 432x288 with 1 Axes>"
      ]
     },
     "metadata": {
      "needs_background": "light"
     },
     "output_type": "display_data"
    },
    {
     "name": "stdout",
     "output_type": "stream",
     "text": [
      "\tAdversarial data only:\n",
      "\t\tBaseline classifier accuracy: 37.260%\n",
      "\n",
      "\t\tCluster classifier accuracy: 48.800%\n",
      "\t\tInput data flagged as suspicious by detector: 75.180%\n"
     ]
    }
   ],
   "source": [
    "test_eps = [2e-2, 4e-2, 8e-2, 1.6e-1, 2.4e-1, 3.2e-1]\n",
    "print(\"Baseline training epsilon: %.2f\" % (baseline_training_eps))\n",
    "\n",
    "baseline_performance = dict()\n",
    "clustering_classifier_performance = dict()\n",
    "clustering_detector_performance = dict()\n",
    "\n",
    "for eps in test_eps:\n",
    "    adv_test_data = utils.add_adversarial_noise(attacked_model, test_dataloader, eps=eps)\n",
    "    \n",
    "    print(\"\\nCurrent epsilon: %.2f\" % (eps))\n",
    "    \n",
    "    plt.imshow(X_test[0].reshape(dimensions))\n",
    "    plt.title(\"Clean Data Sample\")\n",
    "    plt.show()\n",
    "\n",
    "    plt.imshow(adv_test_data[0].reshape(dimensions))\n",
    "    plt.title(\"Adversarial Data Sample\")\n",
    "    plt.show()\n",
    "    \n",
    "    # Testing both classifiers on adversarial data only\n",
    "    # Baseline accuracy\n",
    "    baseline_performance[str(eps)] = utils.eval_model(baseline_model, adv_test_data, y_test) * 100\n",
    "    \n",
    "    print(\"\\tAdversarial data only:\")\n",
    "    print(\"\\t\\tBaseline classifier accuracy: %.3f%%\" % (baseline_performance[str(eps)]))\n",
    "\n",
    "    # Clustering classifier and adversarial detection accuracy\n",
    "    clustering_classifier_performance[str(eps)] = classifier.score(adv_test_data, y_test) * 100\n",
    "    clustering_detector_performance[str(eps)] = classifier.proportion_flagged * 100\n",
    "    \n",
    "    print(\"\\n\\t\\tCluster classifier accuracy: %.3f%%\" % (clustering_classifier_performance[str(eps)]))\n",
    "    print(\"\\t\\tInput data flagged as suspicious by detector: %.3f%%\" % (clustering_detector_performance[str(eps)]))\n",
    "    \n",
    "    # Testing both classifiers on both clean and adversarial data 1:1 ratio\n",
    "#     test_data = np.concatenate((X_test, adv_test_data), axis=0)\n",
    "\n",
    "#     print(\"\\n\\tClean and adversarial data:\")\n",
    "#     print(\"\\t\\tBaseline classifier accuracy: %.3f%%\" % (utils.eval_model(baseline_model, test_data, test_labels) * 100))\n",
    "\n",
    "#     print(\"\\n\\t\\tCluster classifier accuracy: %.3f%%\" % (classifier.score(test_data, test_labels) * 100))\n",
    "#     print(\"\\t\\tInput data flagged as suspicious by detector: %.3f%%\" % (classifier.proportion_flagged * 100))"
   ]
  },
  {
   "cell_type": "code",
   "execution_count": 16,
   "id": "953caf6e",
   "metadata": {},
   "outputs": [
    {
     "name": "stdout",
     "output_type": "stream",
     "text": [
      "{'0.02': 97.50999999999999, '0.04': 96.33, '0.08': 91.60000000000001, '0.16': 82.05, '0.24': 67.25, '0.32': 48.8}\n",
      "{'0.02': 2.27, '0.04': 3.18, '0.08': 9.610000000000001, '0.16': 53.44, '0.24': 69.64, '0.32': 75.18}\n"
     ]
    }
   ],
   "source": [
    "print(clustering_classifier_performance)\n",
    "print(clustering_detector_performance)"
   ]
  },
  {
   "cell_type": "code",
   "execution_count": null,
   "id": "4042c8bf",
   "metadata": {},
   "outputs": [],
   "source": []
  }
 ],
 "metadata": {
  "kernelspec": {
   "display_name": "Python 3",
   "language": "python",
   "name": "python3"
  },
  "language_info": {
   "codemirror_mode": {
    "name": "ipython",
    "version": 3
   },
   "file_extension": ".py",
   "mimetype": "text/x-python",
   "name": "python",
   "nbconvert_exporter": "python",
   "pygments_lexer": "ipython3",
   "version": "3.9.5"
  }
 },
 "nbformat": 4,
 "nbformat_minor": 5
}
