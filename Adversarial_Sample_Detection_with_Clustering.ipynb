{
 "cells": [
  {
   "cell_type": "code",
   "execution_count": 1,
   "id": "9d5bbef6",
   "metadata": {},
   "outputs": [],
   "source": [
    "import numpy as np\n",
    "import torch\n",
    "from torch import nn\n",
    "import matplotlib.pyplot as plt\n",
    "\n",
    "# Input space transformation (dimensionality reduction)\n",
    "from sklearn.decomposition import PCA\n",
    "from sklearn import random_projection\n",
    "from sklearn import cluster\n",
    "from sklearn.random_projection import johnson_lindenstrauss_min_dim\n",
    "\n",
    "import utils\n",
    "\n",
    "from clustering_adv_sample_detection import ClusterAdversarialClassifier as Classifier"
   ]
  },
  {
   "cell_type": "markdown",
   "id": "5f9cd71a",
   "metadata": {},
   "source": [
    "## Testing Cluster Adversarial Classifier"
   ]
  },
  {
   "cell_type": "markdown",
   "id": "7608baf5",
   "metadata": {},
   "source": [
    "### Load Data"
   ]
  },
  {
   "cell_type": "code",
   "execution_count": 2,
   "id": "9cbe5d69",
   "metadata": {},
   "outputs": [],
   "source": [
    "# MNIST\n",
    "X_train, y_train, X_test, y_test = utils.load_mnist()\n",
    "\n",
    "# Perfomance on MNIST with PCA transform, FC NN, and eps=3e-2: \n",
    "# Wall time: 1min 33s\n",
    "# Cluster Classifier Accuracy on clean data: 97.930\n",
    "# Cluster Classifier Accuracy on adversarial data: 92.460\n",
    "# Percentage of input data flagged as suspicious by detector: 45.670\n",
    "\n",
    "# Fashion MNIST\n",
    "#X_train, y_train, X_test, y_test = utils.load_fashion_mnist()\n",
    "\n",
    "# Perfomance on Fashion MNIST with PCA transform, FC NN, and eps=3e-2: \n",
    "# Wall time: 2min\n",
    "# Cluster Classifier Accuracy on clean data: 87.760\n",
    "# Cluster Classifier Accuracy on adversarial data: 79.280\n",
    "# Percentage of input data flagged as suspicious by detector: 46.340\n",
    "\n",
    "# CIFAR-10\n",
    "#X_train, y_train, X_test, y_test = utils.load_cifar10()\n",
    "\n",
    "# Perfomance on CIFAR-10 with PCA transform, FC NN, and eps=3e-2:  \n",
    "# Wall time: 8min 28s\n",
    "# Cluster Classifier Accuracy on clean data: 51.990\n",
    "# Cluster Classifier Accuracy on adversarial data: 43.500\n",
    "# Percentage of input data flagged as suspicious by detector: 55.520"
   ]
  },
  {
   "cell_type": "markdown",
   "id": "a2de22c5",
   "metadata": {},
   "source": [
    "### Train Base Neural Network"
   ]
  },
  {
   "cell_type": "code",
   "execution_count": 3,
   "id": "1f999ae3",
   "metadata": {},
   "outputs": [],
   "source": [
    "from model import My_VGG as Model"
   ]
  },
  {
   "cell_type": "code",
   "execution_count": 4,
   "id": "e667ce65",
   "metadata": {},
   "outputs": [],
   "source": [
    "model = Model(in_channels=1, in_size=28, num_classes=10)"
   ]
  },
  {
   "cell_type": "code",
   "execution_count": 5,
   "id": "3f8dc2b4",
   "metadata": {},
   "outputs": [
    {
     "name": "stderr",
     "output_type": "stream",
     "text": [
      "c:\\users\\jason\\appdata\\local\\programs\\python\\python39\\lib\\site-packages\\torch\\nn\\functional.py:718: UserWarning: Named tensors and all their associated APIs are an experimental feature and subject to change. Please do not use them for anything important until they are released as stable. (Triggered internally at  ..\\c10/core/TensorImpl.h:1156.)\n",
      "  return torch.max_pool2d(input, kernel_size, stride, padding, dilation, ceil_mode)\n"
     ]
    },
    {
     "name": "stdout",
     "output_type": "stream",
     "text": [
      "Epoch 0 - Training loss: 0.2528028489608786\n",
      "Epoch 1 - Training loss: 0.10984951216548436\n",
      "Epoch 2 - Training loss: 0.10897432890436166\n",
      "Epoch 3 - Training loss: 0.0888661191825345\n",
      "Epoch 4 - Training loss: 0.053334344225653765\n",
      "\n",
      "Training Time (in minutes) = 2.5477556308110554\n",
      "Predicted Digit = 5\n",
      "Number Of Images Tested = 10000\n",
      "\n",
      "Model Accuracy = 0.9912\n"
     ]
    },
    {
     "data": {
      "image/png": "[encoded data removed]",
      "text/plain": [
       "<Figure size 432x648 with 2 Axes>"
      ]
     },
     "metadata": {
      "needs_background": "light"
     },
     "output_type": "display_data"
    }
   ],
   "source": [
    "# Now let's start training the network\n",
    "# input_size = X_train.shape[1]\n",
    "# hidden_sizes = [128, 64]\n",
    "# output_size = 10\n",
    "\n",
    "# model = nn.Sequential(nn.Linear(input_size, hidden_sizes[0]),\n",
    "#                       nn.ReLU(),\n",
    "#                       nn.Linear(hidden_sizes[0], hidden_sizes[1]),\n",
    "#                       nn.ReLU(),\n",
    "#                       nn.Linear(hidden_sizes[1], output_size),\n",
    "#                       nn.LogSoftmax(dim=1))\n",
    "\n",
    "model = utils.train_model(model, X_train, X_test, y_train, y_test, epochs=5)"
   ]
  },
  {
   "cell_type": "markdown",
   "id": "394732e8",
   "metadata": {},
   "source": [
    "### Testing base model on adversarial data"
   ]
  },
  {
   "cell_type": "code",
   "execution_count": 6,
   "id": "5449888b",
   "metadata": {},
   "outputs": [],
   "source": [
    "eps = 1e-1\n",
    "\n",
    "test_dataloader = utils.create_dataloader(X_test, y_test)\n",
    "adv_test_data = utils.add_adversarial_noise(model, test_dataloader, eps=eps)"
   ]
  },
  {
   "cell_type": "code",
   "execution_count": 7,
   "id": "8d758362",
   "metadata": {
    "scrolled": true
   },
   "outputs": [
    {
     "name": "stdout",
     "output_type": "stream",
     "text": [
      "Number Of Samples Tested = 10000\n",
      "\n",
      "Model Accuracy = 0.6664\n"
     ]
    }
   ],
   "source": [
    "# Model accuracy on adversarial data\n",
    "utils.eval_model(model, adv_test_data, y_test)"
   ]
  },
  {
   "cell_type": "markdown",
   "id": "98b0cbf2",
   "metadata": {},
   "source": [
    "### Input Space (Dimensionality Reduction) Transforms - optional"
   ]
  },
  {
   "cell_type": "code",
   "execution_count": 8,
   "id": "e366dcde",
   "metadata": {},
   "outputs": [],
   "source": [
    "# SKLearn method for determining a \"minimum\" number of components to reduce the dataset to\n",
    "n_comp = johnson_lindenstrauss_min_dim(X_train.shape[0], eps=.99)\n",
    "\n",
    "# Control (no transform): Wall time: 2min 53s, clean: 0.9733, adv: 0.8829\n",
    "#transformer = None\n",
    "\n",
    "# GaussianRandomProjection(n_components=374): Wall time: 1min 47s, clean: 0.9737, adv: 0.8892\n",
    "# 2nd run: Wall time: 1min 52s, clean: 0.9727, adv: 0.911\n",
    "#transformer = random_projection.GaussianRandomProjection(n_components=n_comp)\n",
    "\n",
    "# SparseRandomProjection(n_components=374): Wall time: 1min 46s, clean: 0.9744, adv: 0.9247\n",
    "# 2nd run: Wall time: 1min 47s, clean: 0.9706, adv: 0.8998\n",
    "#transformer = random_projection.SparseRandomProjection(n_components=n_comp)\n",
    "\n",
    "# PCA(n_components=374): Wall time: 1min 53s, clean: 0.9783, adv: 0.9137\n",
    "# 2nd run: Wall time: 1min 32s, clean: 0.9757, adv: 0.9028\n",
    "transformer = PCA(n_components=n_comp)\n",
    "\n",
    "# FeatureAgglomeration(n_clusters=10):  Wall time: 46.2 s, clean: 0.8512, adv: 0.782\n",
    "#transformer = cluster.FeatureAgglomeration(n_clusters=10)"
   ]
  },
  {
   "cell_type": "markdown",
   "id": "ecb6625a",
   "metadata": {},
   "source": [
    "### Fitting and scoring the classifier on clean data"
   ]
  },
  {
   "cell_type": "code",
   "execution_count": 9,
   "id": "5a575343",
   "metadata": {},
   "outputs": [
    {
     "name": "stdout",
     "output_type": "stream",
     "text": [
      "Wall time: 1min 46s\n",
      "Cluster Classifier Accuracy on clean data: 98.280\n"
     ]
    }
   ],
   "source": [
    "classifier = Classifier(model, transformer)\n",
    "\n",
    "%time classifier.fit(X_train, y_train)\n",
    "print(\"Cluster Classifier Accuracy on clean data: %.3f\" % (classifier.score(X_test, y_test) * 100.0))"
   ]
  },
  {
   "cell_type": "markdown",
   "id": "72ad4e6c",
   "metadata": {},
   "source": [
    "### Scoring the classifier on clean and adversarial data"
   ]
  },
  {
   "cell_type": "code",
   "execution_count": 10,
   "id": "3fdf9f2d",
   "metadata": {},
   "outputs": [],
   "source": [
    "test_data = np.concatenate((X_test, adv_test_data), axis=0)\n",
    "test_labels = np.concatenate((y_test, y_test), axis=0)"
   ]
  },
  {
   "cell_type": "code",
   "execution_count": 11,
   "id": "8c7e0219",
   "metadata": {},
   "outputs": [
    {
     "name": "stdout",
     "output_type": "stream",
     "text": [
      "Cluster Classifier Accuracy on clean and adversarial data: 89.240\n",
      "Percentage of input data flagged as suspicious by detector: 44.670\n"
     ]
    }
   ],
   "source": [
    "print(\"Cluster Classifier Accuracy on clean and adversarial data: %.3f\" % (classifier.score(adv_test_data, y_test) * 100.0))\n",
    "print(\"Percentage of input data flagged as suspicious by detector: %.3f\" % (classifier.proportion_flagged * 100))"
   ]
  },
  {
   "cell_type": "markdown",
   "id": "9d8a93a7",
   "metadata": {},
   "source": [
    "## Baseline Method - Adversarial Training"
   ]
  },
  {
   "cell_type": "markdown",
   "id": "96db6bd5",
   "metadata": {},
   "source": [
    "### Generate adversarial data"
   ]
  },
  {
   "cell_type": "code",
   "execution_count": 12,
   "id": "a0cdd4dc",
   "metadata": {},
   "outputs": [],
   "source": [
    "train_dataloader = utils.create_dataloader(X_train, y_train)\n",
    "adv_train_data = utils.add_adversarial_noise(model, train_dataloader, eps=eps)"
   ]
  },
  {
   "cell_type": "code",
   "execution_count": 13,
   "id": "e6fc270b",
   "metadata": {},
   "outputs": [],
   "source": [
    "baseline_train_data = np.concatenate((X_train, adv_train_data), axis=0)\n",
    "baseline_train_labels = np.concatenate((y_train, y_train), axis=0)"
   ]
  },
  {
   "cell_type": "markdown",
   "id": "5d27a9c8",
   "metadata": {},
   "source": [
    "### Train model with mix of clean and adversarial data"
   ]
  },
  {
   "cell_type": "code",
   "execution_count": 14,
   "id": "bef41afa",
   "metadata": {},
   "outputs": [],
   "source": [
    "baseline_model = Model(in_channels=1, num_classes=10)"
   ]
  },
  {
   "cell_type": "code",
   "execution_count": 15,
   "id": "d7c7dbfc",
   "metadata": {},
   "outputs": [
    {
     "name": "stdout",
     "output_type": "stream",
     "text": [
      "Epoch 0 - Training loss: 0.18734501579213345\n",
      "Epoch 1 - Training loss: 0.1045422577765252\n",
      "Epoch 2 - Training loss: 0.04606292678967327\n",
      "Epoch 3 - Training loss: 0.03704353494210991\n",
      "Epoch 4 - Training loss: 0.036293665838820564\n",
      "\n",
      "Training Time (in minutes) = 4.833556481202444\n",
      "Predicted Digit = 3\n",
      "Number Of Images Tested = 20000\n",
      "\n",
      "Model Accuracy = 0.992\n"
     ]
    },
    {
     "data": {
      "image/png": "[encoded data removed]",
      "text/plain": [
       "<Figure size 432x648 with 2 Axes>"
      ]
     },
     "metadata": {
      "needs_background": "light"
     },
     "output_type": "display_data"
    }
   ],
   "source": [
    "baseline_model = utils.train_model(baseline_model, baseline_train_data, test_data, baseline_train_labels, test_labels, epochs=5)"
   ]
  },
  {
   "cell_type": "code",
   "execution_count": 16,
   "id": "1fc1aab3",
   "metadata": {},
   "outputs": [
    {
     "name": "stdout",
     "output_type": "stream",
     "text": [
      "Baseline classifier on clean test data: \n",
      "Number Of Samples Tested = 10000\n",
      "\n",
      "Model Accuracy = 0.9917\n",
      "Baseline classifier on adversarial test data: \n",
      "Number Of Samples Tested = 10000\n",
      "\n",
      "Model Accuracy = 0.9923\n"
     ]
    }
   ],
   "source": [
    "print(\"Baseline classifier on clean test data: \")\n",
    "utils.eval_model(baseline_model, X_test, y_test)\n",
    "print(\"Baseline classifier on adversarial test data: \")\n",
    "utils.eval_model(baseline_model, adv_test_data, y_test)"
   ]
  },
  {
   "cell_type": "code",
   "execution_count": null,
   "id": "1260d11e",
   "metadata": {},
   "outputs": [],
   "source": []
  }
 ],
 "metadata": {
  "kernelspec": {
   "display_name": "Python 3",
   "language": "python",
   "name": "python3"
  },
  "language_info": {
   "codemirror_mode": {
    "name": "ipython",
    "version": 3
   },
   "file_extension": ".py",
   "mimetype": "text/x-python",
   "name": "python",
   "nbconvert_exporter": "python",
   "pygments_lexer": "ipython3",
   "version": "3.9.5"
  }
 },
 "nbformat": 4,
 "nbformat_minor": 5
}
