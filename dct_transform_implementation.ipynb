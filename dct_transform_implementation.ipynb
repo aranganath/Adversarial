{
 "cells": [
  {
   "cell_type": "code",
   "execution_count": 1,
   "id": "c96c4579",
   "metadata": {},
   "outputs": [
    {
     "name": "stdout",
     "output_type": "stream",
     "text": [
      "Files already downloaded and verified\n",
      "Files already downloaded and verified\n"
     ]
    }
   ],
   "source": [
    "from DCTDimReducer import DCTDimReducer\n",
    "import matplotlib.pyplot as plt\n",
    "from matplotlib.patches import Rectangle\n",
    "import numpy as np\n",
    "import utils\n",
    "import random\n",
    "\n",
    "dataset = 'CIFAR10'\n",
    "\n",
    "if dataset == 'MNIST':\n",
    "    _, _, data, y_test = utils.load_mnist(normalize=True)\n",
    "    size = 28\n",
    "elif dataset == 'FMNIST':\n",
    "    _, _, data, _ = utils.load_fashion_mnist(normalize=True)\n",
    "    size = 28\n",
    "elif dataset == 'GRAY_CIFAR10':\n",
    "    _, _, data, _ = utils.load_cifar10(normalize=True, grayscale=True)\n",
    "    size = 32\n",
    "elif dataset == 'CIFAR10':\n",
    "    _, _, data, _ = utils.load_cifar10(normalize=True)\n",
    "    size = 32\n",
    "\n",
    "def visualize_dct(data, size, n, sample_idx='random', adversarial=False, eps=.3):\n",
    "    # Generate random sample index if one is not provided\n",
    "    if sample_idx == 'random':\n",
    "        sample_idx = random.randrange(0, data.shape[0])\n",
    "    \n",
    "    # Give the selected sample a batch index\n",
    "    data = np.expand_dims(data[sample_idx], 0)\n",
    "    \n",
    "    if adversarial: # Generate adversarial data\n",
    "        model = utils.load_VGG('trained_models/' + dataset + '_model.pt')\n",
    "        model.eval()\n",
    "        dataloader = utils.create_dataloader(data, np.zeros((data.shape[0]), dtype=int))\n",
    "        data = utils.add_adversarial_noise(model, dataloader, eps=.3)\n",
    "\n",
    "    dct = DCTDimReducer(coef_size_reduction=n)\n",
    "    coefs = dct.fit_transform(data, return_flat=False)\n",
    "    inverses = dct.inverse_fit_transform(coefs)\n",
    "\n",
    "    normalize = lambda x : (x - x.min()) / (x.max() - x.min())\n",
    "\n",
    "    img = np.transpose(normalize(data[0]), (1,2,0))\n",
    "    coef = coefs.squeeze()\n",
    "    inv = np.transpose(normalize(inverses[0]), (1,2,0))\n",
    "\n",
    "    plt.imshow(img)\n",
    "    plt.show()\n",
    "\n",
    "    plt.imshow(coef)\n",
    "    plt.gca().add_patch(Rectangle((size-n, size-n),n,n,linewidth=2,edgecolor='r',facecolor='none'))\n",
    "    plt.colorbar(fraction=.05, pad=.01)\n",
    "    plt.show()\n",
    "\n",
    "    plt.imshow(inv)\n",
    "    plt.show()"
   ]
  },
  {
   "cell_type": "code",
   "execution_count": 11,
   "id": "3dd4bc52",
   "metadata": {},
   "outputs": [
    {
     "data": {
      "image/png": "[encoded data removed]",
      "text/plain": [
       "<Figure size 432x288 with 1 Axes>"
      ]
     },
     "metadata": {
      "needs_background": "light"
     },
     "output_type": "display_data"
    },
    {
     "name": "stderr",
     "output_type": "stream",
     "text": [
      "Clipping input data to the valid range for imshow with RGB data ([0..1] for floats or [0..255] for integers).\n"
     ]
    },
    {
     "data": {
      "image/png": "[encoded data removed]",
      "text/plain": [
       "<Figure size 432x288 with 2 Axes>"
      ]
     },
     "metadata": {
      "needs_background": "light"
     },
     "output_type": "display_data"
    },
    {
     "data": {
      "image/png": "[encoded data removed]",
      "text/plain": [
       "<Figure size 432x288 with 1 Axes>"
      ]
     },
     "metadata": {
      "needs_background": "light"
     },
     "output_type": "display_data"
    }
   ],
   "source": [
    "adversarial = True\n",
    "n = 24\n",
    "eps = .3\n",
    "\n",
    "visualize_dct(data, size, n, adversarial=adversarial, eps=eps)"
   ]
  },
  {
   "cell_type": "code",
   "execution_count": 9,
   "id": "eba09c7b",
   "metadata": {},
   "outputs": [],
   "source": [
    "from model import My_VGG as Model\n",
    "import torch\n",
    "from torch import nn, optim\n",
    "from time import time\n",
    "\n",
    "def train_model(model, optimizer, x_train, x_test, y_train, y_test, epochs=15):\n",
    "    device = \"cuda\" if torch.cuda.is_available() else \"cpu\"\n",
    "    \n",
    "    trainset = torch.utils.data.TensorDataset(torch.Tensor(x_train), torch.Tensor(y_train).type(torch.long))\n",
    "    valset = torch.utils.data.TensorDataset(torch.Tensor(x_test), torch.Tensor(y_test).type(torch.long))\n",
    "    trainloader = torch.utils.data.DataLoader(trainset, batch_size=64, shuffle=True)\n",
    "    valloader = torch.utils.data.DataLoader(valset, batch_size=64, shuffle=True)\n",
    "\n",
    "    criterion = nn.NLLLoss()\n",
    "    \n",
    "    if device == \"cuda\":\n",
    "        model = model.cuda()\n",
    "    model.train()\n",
    "    \n",
    "    time0 = time()\n",
    "    for e in range(epochs):\n",
    "        running_loss = 0\n",
    "        for images, labels in trainloader:\n",
    "            images, labels = images.to(device), labels.to(device)\n",
    "\n",
    "            optimizer.zero_grad()\n",
    "\n",
    "            output = model(images)\n",
    "            loss = criterion(output, labels)\n",
    "\n",
    "            loss.backward()\n",
    "\n",
    "            optimizer.step()\n",
    "\n",
    "            running_loss += loss.item()\n",
    "        print(\"Epoch {} - Training loss: {}\".format(e, running_loss/len(trainloader)))\n",
    "    print(\"\\nTraining Time (in minutes) =\",(time()-time0)/60)\n",
    "    \n",
    "    model.eval()\n",
    "    correct_count, all_count = 0, 0\n",
    "    for x, y in valloader:\n",
    "        all_count += y.shape[0]\n",
    "        x, y = x.to(device), y.to(device)\n",
    "        output = model(x)\n",
    "        preds = output.max(1)[1]\n",
    "        correct_count += preds.eq(y).sum().item()\n",
    "    model.to(\"cpu\")\n",
    "\n",
    "    print(\"Number Of Images Tested =\", all_count)\n",
    "    print(\"\\nModel Accuracy =\", (correct_count/all_count))\n",
    "    \n",
    "    return model, optimizer"
   ]
  },
  {
   "cell_type": "code",
   "execution_count": 11,
   "id": "db66f9ce",
   "metadata": {},
   "outputs": [],
   "source": [
    "channels = 1\n",
    "size = 28\n",
    "classes = 10\n",
    "\n",
    "# # Create model and optimizer\n",
    "# model = Model(in_channels=channels, in_size=in_size, num_classes=num_classes)\n",
    "# optimizer = optim.Adam(model.parameters(), lr=0.001)\n",
    "\n",
    "# # Train base model\n",
    "# epochs = 15\n",
    "# model, optimizer = train_model(model, optimizer, train_inverses, test_inverses, y_train, y_test, epochs=epochs)\n",
    "\n",
    "# Save trained model\n",
    "PATH = 'trained_models/dct_model.pt'\n",
    "\n",
    "# torch.save({'epoch': epochs,\n",
    "#             'model_state_dict': model.state_dict(),\n",
    "#             'optimizer_state_dict': optimizer.state_dict(),\n",
    "#             'in_channels': channels,\n",
    "#             'in_size': size,\n",
    "#             'num_classes': classes\n",
    "#             }, PATH)\n",
    "\n",
    "model = utils.load_VGG(PATH)"
   ]
  },
  {
   "cell_type": "code",
   "execution_count": 12,
   "id": "77330c95",
   "metadata": {},
   "outputs": [
    {
     "name": "stderr",
     "output_type": "stream",
     "text": [
      "c:\\users\\jason\\appdata\\local\\programs\\python\\python39\\lib\\site-packages\\torch\\nn\\functional.py:718: UserWarning: Named tensors and all their associated APIs are an experimental feature and subject to change. Please do not use them for anything important until they are released as stable. (Triggered internally at  ..\\c10/core/TensorImpl.h:1156.)\n",
      "  return torch.max_pool2d(input, kernel_size, stride, padding, dilation, ceil_mode)\n"
     ]
    }
   ],
   "source": [
    "attacked_model = utils.load_VGG('trained_models/initial_model.pt')\n",
    "\n",
    "test_dataloader = utils.create_dataloader(X_test, y_test)\n",
    "adv_test_data = utils.add_adversarial_noise(attacked_model, test_dataloader, eps=.04)"
   ]
  },
  {
   "cell_type": "code",
   "execution_count": 13,
   "id": "63c743ed",
   "metadata": {},
   "outputs": [],
   "source": [
    "dct_adv_test_data = dct.fit_transform(adv_test_data)\n",
    "inverse_dct_adv_test_data = idct.fit_transform(dct_adv_test_data).reshape(-1,1,28,28)"
   ]
  },
  {
   "cell_type": "code",
   "execution_count": 14,
   "id": "b061018e",
   "metadata": {},
   "outputs": [
    {
     "data": {
      "image/png": "[encoded data removed]",
      "text/plain": [
       "<Figure size 432x288 with 1 Axes>"
      ]
     },
     "metadata": {
      "needs_background": "light"
     },
     "output_type": "display_data"
    },
    {
     "data": {
      "image/png": "[encoded data removed]",
      "text/plain": [
       "<Figure size 432x288 with 1 Axes>"
      ]
     },
     "metadata": {
      "needs_background": "light"
     },
     "output_type": "display_data"
    }
   ],
   "source": [
    "idx = 0\n",
    "\n",
    "plt.imshow(adv_test_data[idx].squeeze())\n",
    "plt.title(\"Adversarial Sample\")\n",
    "plt.show()\n",
    "\n",
    "plt.imshow(inverse_dct_adv_test_data[idx].squeeze())\n",
    "plt.title(\"Adversarial Sample w/ high-freq information removed by dct\")\n",
    "plt.show()"
   ]
  },
  {
   "cell_type": "code",
   "execution_count": 15,
   "id": "74289234",
   "metadata": {},
   "outputs": [
    {
     "name": "stdout",
     "output_type": "stream",
     "text": [
      "Accuracy on plain clean data: 99.250000\n",
      "Accuracy on dct clean data: 99.290000\n",
      "Accuracy on plain adversarial data: 98.910000\n",
      "Accuracy on dct adversarial data: 28.440000\n"
     ]
    }
   ],
   "source": [
    "print(\"Accuracy on plain clean data: %f\" % (utils.eval_model(model, X_test, y_test) * 100))\n",
    "print(\"Accuracy on dct clean data: %f\" % (utils.eval_model(model, test_inverses, y_test) * 100))\n",
    "\n",
    "print(\"Accuracy on plain adversarial data: %f\" % (utils.eval_model(model, adv_test_data, y_test) * 100))\n",
    "print(\"Accuracy on dct adversarial data: %f\" % (utils.eval_model(model, inverse_dct_adv_test_data, y_test) * 100))"
   ]
  },
  {
   "cell_type": "code",
   "execution_count": null,
   "id": "57f4bdf9",
   "metadata": {},
   "outputs": [],
   "source": []
  }
 ],
 "metadata": {
  "kernelspec": {
   "display_name": "Python 3 (ipykernel)",
   "language": "python",
   "name": "python3"
  },
  "language_info": {
   "codemirror_mode": {
    "name": "ipython",
    "version": 3
   },
   "file_extension": ".py",
   "mimetype": "text/x-python",
   "name": "python",
   "nbconvert_exporter": "python",
   "pygments_lexer": "ipython3",
   "version": "3.9.12"
  }
 },
 "nbformat": 4,
 "nbformat_minor": 5
}
