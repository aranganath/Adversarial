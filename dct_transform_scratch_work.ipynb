{
 "cells": [
  {
   "cell_type": "code",
   "execution_count": 1,
   "id": "c5a2f20e",
   "metadata": {},
   "outputs": [],
   "source": [
    "import numpy as np\n",
    "import matplotlib.pyplot as plt\n",
    "from scipy import fftpack\n",
    "\n",
    "import utils"
   ]
  },
  {
   "cell_type": "code",
   "execution_count": 2,
   "id": "7ca94e64",
   "metadata": {},
   "outputs": [],
   "source": [
    "X_train, y_train, X_test, y_test = utils.load_mnist()"
   ]
  },
  {
   "cell_type": "code",
   "execution_count": 3,
   "id": "e5b7dfa3",
   "metadata": {},
   "outputs": [],
   "source": [
    "for i in range(X_train.shape[0]):\n",
    "    X_train[i] = fftpack.dct(X_train[i])"
   ]
  },
  {
   "cell_type": "code",
   "execution_count": 4,
   "id": "11708e5a",
   "metadata": {},
   "outputs": [],
   "source": [
    "idx = 1\n",
    "#dct = fftpack.dct(X_train - 0.5)"
   ]
  },
  {
   "cell_type": "code",
   "execution_count": 5,
   "id": "c3d80f2e",
   "metadata": {},
   "outputs": [
    {
     "data": {
      "image/png": "[encoded data removed]",
      "text/plain": [
       "<Figure size 432x288 with 1 Axes>"
      ]
     },
     "metadata": {
      "needs_background": "light"
     },
     "output_type": "display_data"
    }
   ],
   "source": [
    "plt.hist(X_train[idx].reshape(784), bins=200)\n",
    "plt.show()"
   ]
  },
  {
   "cell_type": "code",
   "execution_count": 6,
   "id": "14255013",
   "metadata": {},
   "outputs": [
    {
     "data": {
      "text/plain": [
       "array([-3.47254753e-01, -1.32556468e-01,  1.83465004e-01,  5.78293025e-01,\n",
       "        8.78431416e+00,  1.31514475e-01, -3.25579858e+00,  1.66299450e+00,\n",
       "       -5.22106218e+00, -4.26233864e+00,  5.46570492e+00,  1.96494007e+00,\n",
       "        1.75225407e-01,  3.56003332e+00, -2.55765629e+00, -4.44550228e+00,\n",
       "        5.75553894e-01, -1.62386775e-01,  6.43328428e-01,  3.04725838e+00,\n",
       "        1.71385705e-01, -1.07471681e+00, -5.62157273e-01, -1.32091331e+00,\n",
       "        3.38404179e-02,  8.30883443e-01,  2.29032755e-01,  5.73002815e-01,\n",
       "       -1.41094685e-01, -5.27258754e-01,  9.38475132e-02, -3.12610686e-01,\n",
       "        1.04392157e+01,  8.05867016e-01, -5.23310661e+00,  1.22183847e+00,\n",
       "       -3.01418591e+00, -6.52675247e+00,  4.32584190e+00,  6.54552984e+00,\n",
       "       -9.53198612e-01,  6.06732965e-02,  3.95030051e-01, -4.63896465e+00,\n",
       "       -2.28215122e+00,  2.61032009e+00,  1.82461286e+00,  9.92988825e-01,\n",
       "        5.48441052e-01, -1.30247903e+00, -1.23848701e+00, -3.56272578e-01,\n",
       "        1.61173403e-01,  1.20863199e+00,  4.60424423e-01, -9.11477089e-01,\n",
       "       -2.23850131e-01,  1.17198765e-01, -6.42561913e-03,  6.00103796e-01,\n",
       "        1.56549015e+01,  2.26589012e+00, -1.01436005e+01, -1.88314843e+00,\n",
       "        1.22056794e+00, -4.46846294e+00,  6.80408239e-01,  7.27688694e+00,\n",
       "        2.34723425e+00, -2.82667875e+00, -2.48234797e+00, -1.83203685e+00,\n",
       "       -2.80479431e-01,  1.62236595e+00,  1.03154337e+00,  2.79021382e-01,\n",
       "        3.64621639e-01, -3.60153794e-01, -7.24785805e-01, -2.70126700e-01,\n",
       "       -1.49338722e-01,  1.19317293e-01,  4.48929429e-01,  1.21449709e-01,\n",
       "       -5.71228862e-02,  1.13298833e-01, -1.37197971e-01, -3.85739565e-01,\n",
       "        1.85647068e+01,  4.85935020e+00, -1.26567726e+01, -8.23921108e+00,\n",
       "        2.79531813e+00,  2.35911512e+00,  4.26213816e-02,  2.95449448e+00,\n",
       "        2.44906712e+00, -1.94081497e+00, -2.44326925e+00, -4.99327362e-01,\n",
       "       -3.54067802e-01,  9.56304669e-02,  1.25892699e+00,  7.22334921e-01,\n",
       "       -7.97511339e-02,  2.13365018e-01, -2.39954472e-01, -1.00088286e+00,\n",
       "       -3.60133052e-01,  3.06941867e-01,  2.14195311e-01,  5.39614558e-01,\n",
       "        4.67260122e-01, -5.69550753e-01, -5.61212063e-01,  3.04328680e-01,\n",
       "        1.46352940e+01,  4.97984695e+00, -9.74276543e+00, -9.65125656e+00,\n",
       "        1.15462065e+00,  5.75398397e+00,  1.85506487e+00, -5.67131877e-01,\n",
       "        7.05865324e-01,  6.91307783e-02, -2.35069323e+00, -1.79073548e+00,\n",
       "        9.25933838e-01,  1.47144485e+00,  2.44020894e-01,  1.46570444e-01,\n",
       "        5.01744866e-01, -4.04992580e-01, -1.16052771e+00, -3.48767698e-01,\n",
       "        5.13854325e-01,  2.82936811e-01,  1.26497567e-01,  4.61735249e-01,\n",
       "        1.68428391e-01, -5.57857990e-01, -4.68290329e-01,  5.81037998e-02,\n",
       "        8.53333378e+00,  3.17568779e+00, -5.81391621e+00, -6.98851347e+00,\n",
       "        1.71474174e-01,  5.79191160e+00,  3.64098859e+00, -1.85312212e+00,\n",
       "       -3.54133892e+00, -9.34344530e-01,  1.39206684e+00,  1.12994587e+00,\n",
       "        2.93450952e-02, -1.68137267e-01,  2.21836139e-02, -2.38725647e-01,\n",
       "       -4.92978990e-01, -1.08937383e-01,  4.75756615e-01,  4.77908254e-01,\n",
       "       -5.85681200e-02, -4.44992900e-01, -2.90727377e-01,  1.48813725e-01,\n",
       "        3.69928241e-01,  1.51130199e-01, -2.36452103e-01, -3.22738528e-01,\n",
       "        0.00000000e+00,  0.00000000e+00,  0.00000000e+00,  0.00000000e+00,\n",
       "        0.00000000e+00,  0.00000000e+00,  0.00000000e+00,  0.00000000e+00,\n",
       "        0.00000000e+00,  0.00000000e+00,  0.00000000e+00,  0.00000000e+00,\n",
       "        0.00000000e+00,  0.00000000e+00,  0.00000000e+00,  0.00000000e+00,\n",
       "        0.00000000e+00,  0.00000000e+00,  0.00000000e+00,  0.00000000e+00,\n",
       "        0.00000000e+00,  0.00000000e+00,  0.00000000e+00,  0.00000000e+00,\n",
       "        0.00000000e+00,  0.00000000e+00,  0.00000000e+00,  0.00000000e+00,\n",
       "        0.00000000e+00,  0.00000000e+00,  0.00000000e+00,  0.00000000e+00,\n",
       "        0.00000000e+00,  0.00000000e+00,  0.00000000e+00,  0.00000000e+00,\n",
       "        0.00000000e+00,  0.00000000e+00,  0.00000000e+00,  0.00000000e+00,\n",
       "        0.00000000e+00,  0.00000000e+00,  0.00000000e+00,  0.00000000e+00,\n",
       "        0.00000000e+00,  0.00000000e+00,  0.00000000e+00,  0.00000000e+00,\n",
       "        0.00000000e+00,  0.00000000e+00,  0.00000000e+00,  0.00000000e+00,\n",
       "        0.00000000e+00,  0.00000000e+00,  0.00000000e+00,  0.00000000e+00,\n",
       "        0.00000000e+00,  0.00000000e+00,  0.00000000e+00,  0.00000000e+00,\n",
       "        0.00000000e+00,  0.00000000e+00,  0.00000000e+00,  0.00000000e+00,\n",
       "        0.00000000e+00,  0.00000000e+00,  0.00000000e+00,  0.00000000e+00,\n",
       "        0.00000000e+00,  0.00000000e+00,  0.00000000e+00,  0.00000000e+00,\n",
       "        0.00000000e+00,  0.00000000e+00,  0.00000000e+00,  0.00000000e+00,\n",
       "        0.00000000e+00,  0.00000000e+00,  0.00000000e+00,  0.00000000e+00,\n",
       "        0.00000000e+00,  0.00000000e+00,  0.00000000e+00,  0.00000000e+00,\n",
       "        0.00000000e+00,  0.00000000e+00,  0.00000000e+00,  0.00000000e+00,\n",
       "        0.00000000e+00,  0.00000000e+00,  0.00000000e+00,  0.00000000e+00,\n",
       "        0.00000000e+00,  0.00000000e+00,  0.00000000e+00,  0.00000000e+00,\n",
       "        0.00000000e+00,  0.00000000e+00,  0.00000000e+00,  0.00000000e+00,\n",
       "        0.00000000e+00,  0.00000000e+00,  0.00000000e+00,  0.00000000e+00,\n",
       "        0.00000000e+00,  0.00000000e+00,  0.00000000e+00,  0.00000000e+00,\n",
       "        0.00000000e+00,  0.00000000e+00,  0.00000000e+00,  0.00000000e+00],\n",
       "      dtype=float32)"
      ]
     },
     "execution_count": 6,
     "metadata": {},
     "output_type": "execute_result"
    }
   ],
   "source": [
    "img = X_train[idx]\n",
    "img.reshape(784)[500:]"
   ]
  },
  {
   "cell_type": "code",
   "execution_count": 7,
   "id": "7b69bbc8",
   "metadata": {},
   "outputs": [
    {
     "data": {
      "text/plain": [
       "array([[[ 0.00000000e+00,  0.00000000e+00,  0.00000000e+00,\n",
       "          0.00000000e+00,  0.00000000e+00,  0.00000000e+00,\n",
       "          0.00000000e+00,  0.00000000e+00,  0.00000000e+00,\n",
       "          0.00000000e+00,  0.00000000e+00,  0.00000000e+00,\n",
       "          0.00000000e+00,  0.00000000e+00,  0.00000000e+00,\n",
       "          0.00000000e+00,  0.00000000e+00,  0.00000000e+00,\n",
       "          0.00000000e+00,  0.00000000e+00,  0.00000000e+00,\n",
       "          0.00000000e+00,  0.00000000e+00,  0.00000000e+00,\n",
       "          0.00000000e+00,  0.00000000e+00,  0.00000000e+00,\n",
       "          0.00000000e+00],\n",
       "        [ 0.00000000e+00,  0.00000000e+00,  0.00000000e+00,\n",
       "          0.00000000e+00,  0.00000000e+00,  0.00000000e+00,\n",
       "          0.00000000e+00,  0.00000000e+00,  0.00000000e+00,\n",
       "          0.00000000e+00,  0.00000000e+00,  0.00000000e+00,\n",
       "          0.00000000e+00,  0.00000000e+00,  0.00000000e+00,\n",
       "          0.00000000e+00,  0.00000000e+00,  0.00000000e+00,\n",
       "          0.00000000e+00,  0.00000000e+00,  0.00000000e+00,\n",
       "          0.00000000e+00,  0.00000000e+00,  0.00000000e+00,\n",
       "          0.00000000e+00,  0.00000000e+00,  0.00000000e+00,\n",
       "          0.00000000e+00],\n",
       "        [ 0.00000000e+00,  0.00000000e+00,  0.00000000e+00,\n",
       "          0.00000000e+00,  0.00000000e+00,  0.00000000e+00,\n",
       "          0.00000000e+00,  0.00000000e+00,  0.00000000e+00,\n",
       "          0.00000000e+00,  0.00000000e+00,  0.00000000e+00,\n",
       "          0.00000000e+00,  0.00000000e+00,  0.00000000e+00,\n",
       "          0.00000000e+00,  0.00000000e+00,  0.00000000e+00,\n",
       "          0.00000000e+00,  0.00000000e+00,  0.00000000e+00,\n",
       "          0.00000000e+00,  0.00000000e+00,  0.00000000e+00,\n",
       "          0.00000000e+00,  0.00000000e+00,  0.00000000e+00,\n",
       "          0.00000000e+00],\n",
       "        [ 0.00000000e+00,  0.00000000e+00,  0.00000000e+00,\n",
       "          0.00000000e+00,  0.00000000e+00,  0.00000000e+00,\n",
       "          0.00000000e+00,  0.00000000e+00,  0.00000000e+00,\n",
       "          0.00000000e+00,  0.00000000e+00,  0.00000000e+00,\n",
       "          0.00000000e+00,  0.00000000e+00,  0.00000000e+00,\n",
       "          0.00000000e+00,  0.00000000e+00,  0.00000000e+00,\n",
       "          0.00000000e+00,  0.00000000e+00,  0.00000000e+00,\n",
       "          0.00000000e+00,  0.00000000e+00,  0.00000000e+00,\n",
       "          0.00000000e+00,  0.00000000e+00,  0.00000000e+00,\n",
       "          0.00000000e+00],\n",
       "        [ 5.27058840e+00, -2.00175238e+00, -3.62958622e+00,\n",
       "          4.57854080e+00,  6.13197684e-03, -4.10458803e+00,\n",
       "          2.90120173e+00,  1.44151342e+00, -3.36309910e+00,\n",
       "          1.12910759e+00,  1.82341695e+00, -2.02025628e+00,\n",
       "         -3.40300798e-03,  1.37842190e+00, -8.42982292e-01,\n",
       "         -3.55341434e-01,  7.15611696e-01, -2.11635828e-01,\n",
       "         -2.84343660e-01,  2.92487472e-01, -7.64632225e-03,\n",
       "         -2.00904250e-01,  1.54327273e-01,  7.62028694e-02,\n",
       "         -2.31092989e-01,  9.99939442e-02,  1.85993314e-01,\n",
       "         -2.57667243e-01],\n",
       "        [ 1.00313730e+01, -3.66901112e+00, -6.87259579e+00,\n",
       "          8.02530098e+00,  3.73163581e-01, -6.51860332e+00,\n",
       "          3.80835295e+00,  1.97733581e+00, -3.27290154e+00,\n",
       "          7.53965378e-01,  6.53444350e-01, -1.21500283e-01,\n",
       "          2.90933430e-01, -1.37088048e+00,  9.70538318e-01,\n",
       "          1.08527219e+00, -2.02496696e+00,  5.46350241e-01,\n",
       "          1.26170802e+00, -1.27816844e+00,  1.55697942e-01,\n",
       "          4.11550641e-01, -3.20504189e-01,  4.49311256e-01,\n",
       "         -6.54026270e-01,  7.65376091e-02,  1.00138688e+00,\n",
       "         -1.17734063e+00],\n",
       "        [ 1.23372555e+01, -4.03365040e+00, -8.73186398e+00,\n",
       "          8.50833035e+00,  1.73772478e+00, -6.44645929e+00,\n",
       "          2.03240728e+00,  1.93948722e+00, -9.34009433e-01,\n",
       "         -1.14251032e-01, -1.23332953e+00,  1.25790477e+00,\n",
       "          1.18809223e+00, -2.21698880e+00,  3.05026382e-01,\n",
       "          1.35618615e+00, -8.58285964e-01, -4.19527292e-03,\n",
       "         -1.40692592e-02, -1.67104289e-01,  8.50717783e-01,\n",
       "         -6.65296018e-01, -5.64909339e-01,  1.14445734e+00,\n",
       "         -3.16433132e-01, -6.29947662e-01,  6.03274345e-01,\n",
       "         -1.44661784e-01],\n",
       "        [ 1.54039221e+01, -4.89573717e+00, -1.00055542e+01,\n",
       "          8.37702560e+00,  1.75208437e+00, -3.21917486e+00,\n",
       "         -8.12010407e-01, -4.35193241e-01,  3.72330475e+00,\n",
       "         -1.61188793e+00, -2.55465078e+00,  2.85796404e+00,\n",
       "         -9.49326634e-01, -6.33502007e-02,  1.08700347e+00,\n",
       "         -2.19119501e+00,  1.14941299e+00,  1.31825447e+00,\n",
       "         -1.81516659e+00,  8.08503032e-02,  9.68765736e-01,\n",
       "         -3.84007394e-01, -2.31635690e-01,  2.88767934e-01,\n",
       "         -4.17029023e-01,  2.33669758e-01,  7.06532001e-01,\n",
       "         -1.10626030e+00],\n",
       "        [ 1.86745110e+01, -4.47181082e+00, -1.27858839e+01,\n",
       "          6.90275192e+00,  3.66558170e+00, -9.32646215e-01,\n",
       "         -1.85024285e+00, -2.58364773e+00,  3.26526642e+00,\n",
       "          2.66718149e-01, -5.14334142e-01,  6.11655354e-01,\n",
       "         -2.99949336e+00,  1.90643382e+00,  1.90225554e+00,\n",
       "         -2.29869723e+00,  6.99011803e-01, -2.84540385e-01,\n",
       "         -6.66219294e-01,  1.56902134e+00, -1.74327374e-01,\n",
       "         -9.76799011e-01, -2.50451565e-02,  6.30872548e-01,\n",
       "         -1.46646857e-01, -7.44543076e-02,  6.22804642e-01,\n",
       "         -1.10614765e+00],\n",
       "        [ 1.66980400e+01, -3.20555115e+00, -1.14547644e+01,\n",
       "          4.11721468e+00,  3.42988539e+00,  1.42375600e+00,\n",
       "         -1.71614695e+00, -3.62186527e+00,  2.07879066e+00,\n",
       "          7.47142434e-01,  1.46202707e+00, -3.62947255e-01,\n",
       "         -4.25246954e+00,  3.27265739e+00,  1.41421318e+00,\n",
       "         -3.09848595e+00,  2.33250046e+00, -4.05591279e-01,\n",
       "         -2.10662985e+00,  1.84858835e+00,  5.88483214e-01,\n",
       "         -6.42801285e-01, -7.16633320e-01,  7.52246380e-03,\n",
       "          9.43905354e-01, -1.23645425e-01, -3.45215797e-01,\n",
       "         -1.57482505e-01],\n",
       "        [ 1.36784325e+01, -1.63934255e+00, -7.90243864e+00,\n",
       "         -7.75540471e-01,  4.72364962e-01,  7.22038269e+00,\n",
       "         -9.46572304e-01, -5.65283012e+00,  1.42248476e+00,\n",
       "         -1.08141208e+00,  3.44007158e+00,  1.60603142e+00,\n",
       "         -5.29800797e+00,  2.11962366e+00,  8.98441136e-01,\n",
       "         -2.07888508e+00,  1.99208593e+00,  1.85197592e-03,\n",
       "         -3.18208694e-01, -6.22096002e-01, -1.16309321e+00,\n",
       "          2.14938712e+00,  4.46648359e-01, -1.64276767e+00,\n",
       "          2.99012661e-01,  1.01449609e-01, -2.07571507e-01,\n",
       "          7.53032744e-01],\n",
       "        [ 1.29490204e+01, -1.47748363e+00, -5.50538158e+00,\n",
       "         -2.55353355e+00, -2.95710850e+00,  9.78106976e+00,\n",
       "          5.63103080e-01, -5.53082371e+00,  9.48845625e-01,\n",
       "         -2.64231157e+00,  3.31105924e+00,  1.65481424e+00,\n",
       "         -3.11855364e+00,  2.00573063e+00, -1.03708994e+00,\n",
       "         -9.64483976e-01,  1.26567805e+00, -3.62352550e-01,\n",
       "          5.90289831e-01,  1.08261347e-01, -1.05392289e+00,\n",
       "         -9.22002792e-02,  1.14334214e+00, -5.61727524e-01,\n",
       "         -1.53755784e-01,  6.14994407e-01, -1.14783359e+00,\n",
       "          1.04964292e+00],\n",
       "        [ 1.17254906e+01, -1.33101833e+00, -3.17595172e+00,\n",
       "         -2.43735957e+00, -6.48757935e+00,  7.87212944e+00,\n",
       "          2.97867632e+00, -1.36399102e+00,  1.03815055e+00,\n",
       "         -6.59565639e+00,  1.13370121e+00,  2.97391748e+00,\n",
       "         -3.79212677e-01,  2.52067757e+00, -2.43466568e+00,\n",
       "         -1.48308659e+00,  1.18925834e+00, -2.48975754e-01,\n",
       "          3.43657881e-01,  1.91013098e-01, -5.00920415e-02,\n",
       "          5.47391772e-02,  7.40176797e-01, -1.35415459e+00,\n",
       "         -5.74382782e-01,  1.20830488e+00, -8.02341700e-01,\n",
       "          1.54701650e+00],\n",
       "        [ 1.03843136e+01, -1.45653892e+00, -1.59952664e+00,\n",
       "         -1.50824404e+00, -7.89589596e+00,  5.71151114e+00,\n",
       "          2.84221721e+00,  8.01972389e-01,  3.02503443e+00,\n",
       "         -6.91983604e+00, -9.89663243e-01,  1.32549262e+00,\n",
       "          1.87125802e-03,  4.35493851e+00, -1.10918725e+00,\n",
       "         -1.95741773e+00, -3.56134087e-01, -1.01826262e+00,\n",
       "          1.08093250e+00,  1.25920510e+00, -3.97758484e-02,\n",
       "         -7.88406134e-01,  3.19624186e-01, -8.54150295e-01,\n",
       "          8.15763474e-02,  1.21615958e+00, -1.35420179e+00,\n",
       "          1.05283809e+00],\n",
       "        [ 1.05490198e+01, -1.16210794e+00, -1.11611676e+00,\n",
       "         -1.45617700e+00, -8.79826832e+00,  4.46140003e+00,\n",
       "          2.37744617e+00,  1.81942976e+00,  4.84339476e+00,\n",
       "         -5.96814823e+00, -1.77098846e+00, -5.39177299e-01,\n",
       "         -1.34841514e+00,  4.63257504e+00,  3.71577412e-01,\n",
       "         -5.83899260e-01, -5.20015359e-02, -1.76335776e+00,\n",
       "          2.83219218e-02,  5.85118532e-01, -1.34331703e-01,\n",
       "         -3.75450969e-01,  1.07590282e+00, -1.11078501e-01,\n",
       "          3.79113197e-01,  7.50431240e-01, -2.39857817e+00,\n",
       "          2.14744896e-01],\n",
       "        [ 1.05019608e+01, -4.43912029e-01, -8.86921763e-01,\n",
       "         -1.61135876e+00, -9.15759087e+00,  3.01281142e+00,\n",
       "          2.00653172e+00,  2.02741861e+00,  5.99434376e+00,\n",
       "         -4.39020586e+00, -1.81423378e+00, -1.10131156e+00,\n",
       "         -2.85356236e+00,  3.76746368e+00,  9.03987169e-01,\n",
       "         -8.20386410e-03,  1.02208745e+00, -1.86505687e+00,\n",
       "         -3.97797346e-01,  5.18012524e-01, -4.42476511e-01,\n",
       "          1.26678824e-01,  7.33589888e-01, -5.72191000e-01,\n",
       "          2.78724670e-01,  6.17805600e-01, -1.30662000e+00,\n",
       "          6.35938525e-01],\n",
       "        [ 9.29411697e+00, -1.73193946e-01, -1.25343704e+00,\n",
       "         -3.66081834e-01, -8.35434151e+00,  9.14550483e-01,\n",
       "          3.19982529e+00,  4.68032539e-01,  5.98502350e+00,\n",
       "         -1.46922207e+00, -3.81054759e+00, -2.08295941e-01,\n",
       "         -3.23081827e+00,  1.58076882e+00,  3.07799363e+00,\n",
       "         -1.31093919e-01,  1.07484043e+00, -1.28098440e+00,\n",
       "         -1.62707925e+00,  3.04748893e-01,  4.57680225e-02,\n",
       "          7.96609342e-01,  2.31203794e-01, -2.47193873e-01,\n",
       "         -2.63124466e-01, -3.36888850e-01,  5.76996028e-01,\n",
       "          1.65721476e-02],\n",
       "        [ 9.77254868e+00, -4.26643938e-01, -2.09779692e+00,\n",
       "          1.05887198e+00, -8.19872952e+00, -8.56569886e-01,\n",
       "          5.04580116e+00, -3.44650686e-01,  4.60653782e+00,\n",
       "          1.34964204e+00, -5.34205866e+00, -8.52504313e-01,\n",
       "         -1.26344299e+00, -5.79454422e-01,  3.64922571e+00,\n",
       "          1.20965958e+00, -4.34834570e-01, -5.15269697e-01,\n",
       "         -1.61790287e+00, -4.64069366e-01,  6.74685717e-01,\n",
       "          7.91069567e-01,  3.18068266e-01, -4.57618356e-01,\n",
       "         -3.47254753e-01, -1.32556468e-01,  1.83465004e-01,\n",
       "          5.78293025e-01],\n",
       "        [ 8.78431416e+00,  1.31514475e-01, -3.25579858e+00,\n",
       "          1.66299450e+00, -5.22106218e+00, -4.26233864e+00,\n",
       "          5.46570492e+00,  1.96494007e+00,  1.75225407e-01,\n",
       "          3.56003332e+00, -2.55765629e+00, -4.44550228e+00,\n",
       "          5.75553894e-01, -1.62386775e-01,  6.43328428e-01,\n",
       "          3.04725838e+00,  1.71385705e-01, -1.07471681e+00,\n",
       "         -5.62157273e-01, -1.32091331e+00,  3.38404179e-02,\n",
       "          8.30883443e-01,  2.29032755e-01,  5.73002815e-01,\n",
       "         -1.41094685e-01, -5.27258754e-01,  9.38475132e-02,\n",
       "         -3.12610686e-01],\n",
       "        [ 1.04392157e+01,  8.05867016e-01, -5.23310661e+00,\n",
       "          1.22183847e+00, -3.01418591e+00, -6.52675247e+00,\n",
       "          4.32584190e+00,  6.54552984e+00, -9.53198612e-01,\n",
       "          6.06732965e-02,  3.95030051e-01, -4.63896465e+00,\n",
       "         -2.28215122e+00,  2.61032009e+00,  1.82461286e+00,\n",
       "          9.92988825e-01,  5.48441052e-01, -1.30247903e+00,\n",
       "         -1.23848701e+00, -3.56272578e-01,  1.61173403e-01,\n",
       "          1.20863199e+00,  4.60424423e-01, -9.11477089e-01,\n",
       "         -2.23850131e-01,  1.17198765e-01, -6.42561913e-03,\n",
       "          6.00103796e-01],\n",
       "        [ 1.56549015e+01,  2.26589012e+00, -1.01436005e+01,\n",
       "         -1.88314843e+00,  1.22056794e+00, -4.46846294e+00,\n",
       "          6.80408239e-01,  7.27688694e+00,  2.34723425e+00,\n",
       "         -2.82667875e+00, -2.48234797e+00, -1.83203685e+00,\n",
       "         -2.80479431e-01,  1.62236595e+00,  1.03154337e+00,\n",
       "          2.79021382e-01,  3.64621639e-01, -3.60153794e-01,\n",
       "         -7.24785805e-01, -2.70126700e-01, -1.49338722e-01,\n",
       "          1.19317293e-01,  4.48929429e-01,  1.21449709e-01,\n",
       "         -5.71228862e-02,  1.13298833e-01, -1.37197971e-01,\n",
       "         -3.85739565e-01],\n",
       "        [ 1.85647068e+01,  4.85935020e+00, -1.26567726e+01,\n",
       "         -8.23921108e+00,  2.79531813e+00,  2.35911512e+00,\n",
       "          4.26213816e-02,  2.95449448e+00,  2.44906712e+00,\n",
       "         -1.94081497e+00, -2.44326925e+00, -4.99327362e-01,\n",
       "         -3.54067802e-01,  9.56304669e-02,  1.25892699e+00,\n",
       "          7.22334921e-01, -7.97511339e-02,  2.13365018e-01,\n",
       "         -2.39954472e-01, -1.00088286e+00, -3.60133052e-01,\n",
       "          3.06941867e-01,  2.14195311e-01,  5.39614558e-01,\n",
       "          4.67260122e-01, -5.69550753e-01, -5.61212063e-01,\n",
       "          3.04328680e-01],\n",
       "        [ 1.46352940e+01,  4.97984695e+00, -9.74276543e+00,\n",
       "         -9.65125656e+00,  1.15462065e+00,  5.75398397e+00,\n",
       "          1.85506487e+00, -5.67131877e-01,  7.05865324e-01,\n",
       "          6.91307783e-02, -2.35069323e+00, -1.79073548e+00,\n",
       "          9.25933838e-01,  1.47144485e+00,  2.44020894e-01,\n",
       "          1.46570444e-01,  5.01744866e-01, -4.04992580e-01,\n",
       "         -1.16052771e+00, -3.48767698e-01,  5.13854325e-01,\n",
       "          2.82936811e-01,  1.26497567e-01,  4.61735249e-01,\n",
       "          1.68428391e-01, -5.57857990e-01, -4.68290329e-01,\n",
       "          5.81037998e-02],\n",
       "        [ 8.53333378e+00,  3.17568779e+00, -5.81391621e+00,\n",
       "         -6.98851347e+00,  1.71474174e-01,  5.79191160e+00,\n",
       "          3.64098859e+00, -1.85312212e+00, -3.54133892e+00,\n",
       "         -9.34344530e-01,  1.39206684e+00,  1.12994587e+00,\n",
       "          2.93450952e-02, -1.68137267e-01,  2.21836139e-02,\n",
       "         -2.38725647e-01, -4.92978990e-01, -1.08937383e-01,\n",
       "          4.75756615e-01,  4.77908254e-01, -5.85681200e-02,\n",
       "         -4.44992900e-01, -2.90727377e-01,  1.48813725e-01,\n",
       "          3.69928241e-01,  1.51130199e-01, -2.36452103e-01,\n",
       "         -3.22738528e-01],\n",
       "        [ 0.00000000e+00,  0.00000000e+00,  0.00000000e+00,\n",
       "          0.00000000e+00,  0.00000000e+00,  0.00000000e+00,\n",
       "          0.00000000e+00,  0.00000000e+00,  0.00000000e+00,\n",
       "          0.00000000e+00,  0.00000000e+00,  0.00000000e+00,\n",
       "          0.00000000e+00,  0.00000000e+00,  0.00000000e+00,\n",
       "          0.00000000e+00,  0.00000000e+00,  0.00000000e+00,\n",
       "          0.00000000e+00,  0.00000000e+00,  0.00000000e+00,\n",
       "          0.00000000e+00,  0.00000000e+00,  0.00000000e+00,\n",
       "          0.00000000e+00,  0.00000000e+00,  0.00000000e+00,\n",
       "          0.00000000e+00],\n",
       "        [ 0.00000000e+00,  0.00000000e+00,  0.00000000e+00,\n",
       "          0.00000000e+00,  0.00000000e+00,  0.00000000e+00,\n",
       "          0.00000000e+00,  0.00000000e+00,  0.00000000e+00,\n",
       "          0.00000000e+00,  0.00000000e+00,  0.00000000e+00,\n",
       "          0.00000000e+00,  0.00000000e+00,  0.00000000e+00,\n",
       "          0.00000000e+00,  0.00000000e+00,  0.00000000e+00,\n",
       "          0.00000000e+00,  0.00000000e+00,  0.00000000e+00,\n",
       "          0.00000000e+00,  0.00000000e+00,  0.00000000e+00,\n",
       "          0.00000000e+00,  0.00000000e+00,  0.00000000e+00,\n",
       "          0.00000000e+00],\n",
       "        [ 0.00000000e+00,  0.00000000e+00,  0.00000000e+00,\n",
       "          0.00000000e+00,  0.00000000e+00,  0.00000000e+00,\n",
       "          0.00000000e+00,  0.00000000e+00,  0.00000000e+00,\n",
       "          0.00000000e+00,  0.00000000e+00,  0.00000000e+00,\n",
       "          0.00000000e+00,  0.00000000e+00,  0.00000000e+00,\n",
       "          0.00000000e+00,  0.00000000e+00,  0.00000000e+00,\n",
       "          0.00000000e+00,  0.00000000e+00,  0.00000000e+00,\n",
       "          0.00000000e+00,  0.00000000e+00,  0.00000000e+00,\n",
       "          0.00000000e+00,  0.00000000e+00,  0.00000000e+00,\n",
       "          0.00000000e+00],\n",
       "        [ 0.00000000e+00,  0.00000000e+00,  0.00000000e+00,\n",
       "          0.00000000e+00,  0.00000000e+00,  0.00000000e+00,\n",
       "          0.00000000e+00,  0.00000000e+00,  0.00000000e+00,\n",
       "          0.00000000e+00,  0.00000000e+00,  0.00000000e+00,\n",
       "          0.00000000e+00,  0.00000000e+00,  0.00000000e+00,\n",
       "          0.00000000e+00,  0.00000000e+00,  0.00000000e+00,\n",
       "          0.00000000e+00,  0.00000000e+00,  0.00000000e+00,\n",
       "          0.00000000e+00,  0.00000000e+00,  0.00000000e+00,\n",
       "          0.00000000e+00,  0.00000000e+00,  0.00000000e+00,\n",
       "          0.00000000e+00]]], dtype=float32)"
      ]
     },
     "execution_count": 7,
     "metadata": {},
     "output_type": "execute_result"
    }
   ],
   "source": [
    "X_train[idx]"
   ]
  },
  {
   "cell_type": "code",
   "execution_count": 8,
   "id": "69959f67",
   "metadata": {},
   "outputs": [
    {
     "data": {
      "image/png": "[encoded data removed]",
      "text/plain": [
       "<Figure size 432x288 with 1 Axes>"
      ]
     },
     "metadata": {
      "needs_background": "light"
     },
     "output_type": "display_data"
    }
   ],
   "source": [
    "plt.imshow(((X_train[idx] - X_train[idx].min()) / (X_train[idx].max() - X_train[idx].min())).squeeze()) # Matrix values scaled for visualization\n",
    "plt.show()"
   ]
  },
  {
   "cell_type": "code",
   "execution_count": null,
   "id": "3818191d",
   "metadata": {},
   "outputs": [],
   "source": []
  },
  {
   "cell_type": "code",
   "execution_count": 9,
   "id": "69094afd",
   "metadata": {},
   "outputs": [
    {
     "data": {
      "image/png": "[encoded data removed]",
      "text/plain": [
       "<Figure size 432x288 with 1 Axes>"
      ]
     },
     "metadata": {
      "needs_background": "light"
     },
     "output_type": "display_data"
    }
   ],
   "source": [
    "img = X_train[idx]\n",
    "img = img.reshape(784)\n",
    "\n",
    "img[500:] = 0\n",
    "img = img.reshape((28,28))\n",
    "plt.imshow(fftpack.idct(img))\n",
    "plt.show()"
   ]
  },
  {
   "cell_type": "code",
   "execution_count": 10,
   "id": "c094fd00",
   "metadata": {},
   "outputs": [
    {
     "data": {
      "text/plain": [
       "1.2592051"
      ]
     },
     "execution_count": 10,
     "metadata": {},
     "output_type": "execute_result"
    }
   ],
   "source": [
    "np.unique(X_train[idx], return_counts=True)[0][300]"
   ]
  },
  {
   "cell_type": "code",
   "execution_count": 11,
   "id": "edbeee89",
   "metadata": {},
   "outputs": [
    {
     "name": "stdout",
     "output_type": "stream",
     "text": [
      "396\n",
      "224\n"
     ]
    }
   ],
   "source": [
    "print((X_train[idx] == 0).sum().item())\n",
    "print((X_train[idx+1] == 0).sum().item())"
   ]
  },
  {
   "cell_type": "code",
   "execution_count": 12,
   "id": "4fb69b72",
   "metadata": {},
   "outputs": [
    {
     "data": {
      "text/plain": [
       "556"
      ]
     },
     "execution_count": 12,
     "metadata": {},
     "output_type": "execute_result"
    }
   ],
   "source": [
    "((X_train[idx] == 0) == (X_train[idx+1] == 0)).sum().item()"
   ]
  },
  {
   "cell_type": "code",
   "execution_count": 13,
   "id": "d62a123f",
   "metadata": {},
   "outputs": [
    {
     "data": {
      "image/png": "[encoded data removed]",
      "text/plain": [
       "<Figure size 432x288 with 1 Axes>"
      ]
     },
     "metadata": {
      "needs_background": "light"
     },
     "output_type": "display_data"
    }
   ],
   "source": [
    "plt.imshow((X_train[idx+1] == 0).reshape((28,28)))\n",
    "plt.show()"
   ]
  },
  {
   "cell_type": "code",
   "execution_count": 14,
   "id": "7a4be9f2",
   "metadata": {},
   "outputs": [
    {
     "data": {
      "text/plain": [
       "array([[[0, 0, 0, ..., 0, 0, 0],\n",
       "        [0, 0, 0, ..., 0, 0, 0],\n",
       "        [0, 0, 0, ..., 0, 0, 0],\n",
       "        ...,\n",
       "        [0, 0, 0, ..., 0, 0, 0],\n",
       "        [0, 0, 0, ..., 0, 0, 0],\n",
       "        [0, 0, 0, ..., 0, 0, 0]],\n",
       "\n",
       "       [[0, 0, 0, ..., 0, 0, 0],\n",
       "        [0, 0, 0, ..., 0, 0, 0],\n",
       "        [0, 0, 0, ..., 0, 0, 0],\n",
       "        ...,\n",
       "        [0, 0, 0, ..., 0, 0, 0],\n",
       "        [0, 0, 0, ..., 0, 0, 0],\n",
       "        [0, 0, 0, ..., 0, 0, 0]],\n",
       "\n",
       "       [[0, 0, 0, ..., 0, 0, 0],\n",
       "        [0, 0, 0, ..., 0, 0, 0],\n",
       "        [0, 0, 0, ..., 0, 0, 0],\n",
       "        ...,\n",
       "        [0, 0, 0, ..., 0, 0, 0],\n",
       "        [0, 0, 0, ..., 0, 0, 0],\n",
       "        [0, 0, 0, ..., 0, 0, 0]],\n",
       "\n",
       "       ...,\n",
       "\n",
       "       [[0, 0, 0, ..., 0, 0, 0],\n",
       "        [0, 0, 0, ..., 0, 0, 0],\n",
       "        [0, 0, 0, ..., 0, 0, 0],\n",
       "        ...,\n",
       "        [0, 0, 0, ..., 0, 0, 0],\n",
       "        [0, 0, 0, ..., 0, 0, 0],\n",
       "        [0, 0, 0, ..., 0, 0, 0]],\n",
       "\n",
       "       [[0, 0, 0, ..., 0, 0, 0],\n",
       "        [0, 0, 0, ..., 0, 0, 0],\n",
       "        [1, 1, 1, ..., 1, 1, 1],\n",
       "        ...,\n",
       "        [0, 0, 0, ..., 0, 0, 0],\n",
       "        [0, 0, 0, ..., 0, 0, 0],\n",
       "        [0, 0, 0, ..., 0, 0, 0]],\n",
       "\n",
       "       [[0, 0, 0, ..., 0, 0, 0],\n",
       "        [0, 0, 0, ..., 0, 0, 0],\n",
       "        [0, 0, 0, ..., 0, 0, 0],\n",
       "        ...,\n",
       "        [0, 0, 0, ..., 0, 0, 0],\n",
       "        [0, 0, 0, ..., 0, 0, 0],\n",
       "        [0, 0, 0, ..., 0, 0, 0]]])"
      ]
     },
     "execution_count": 14,
     "metadata": {},
     "output_type": "execute_result"
    }
   ],
   "source": [
    "(X_train != 0).sum(axis=1)"
   ]
  },
  {
   "cell_type": "code",
   "execution_count": 15,
   "id": "e7e0e10a",
   "metadata": {},
   "outputs": [
    {
     "name": "stdout",
     "output_type": "stream",
     "text": [
      "-17.862808\n",
      "40.0\n"
     ]
    }
   ],
   "source": [
    "print(X_train.min())\n",
    "print(X_train.max())"
   ]
  },
  {
   "cell_type": "code",
   "execution_count": 16,
   "id": "962787c5",
   "metadata": {},
   "outputs": [
    {
     "data": {
      "image/png": "[encoded data removed]",
      "text/plain": [
       "<Figure size 432x288 with 1 Axes>"
      ]
     },
     "metadata": {
      "needs_background": "light"
     },
     "output_type": "display_data"
    }
   ],
   "source": [
    "idx = 5000\n",
    "plt.imshow(((X_train[idx] - X_train[idx].min()) / (X_train[idx].max() - X_train[idx].min())).reshape((28,28))) # Matrix values scaled for visualization\n",
    "plt.show()"
   ]
  },
  {
   "cell_type": "code",
   "execution_count": 68,
   "id": "ae5c54ee",
   "metadata": {},
   "outputs": [
    {
     "data": {
      "text/plain": [
       "784"
      ]
     },
     "execution_count": 68,
     "metadata": {},
     "output_type": "execute_result"
    }
   ],
   "source": [
    "(X_train[idx] != 0).sum().item()"
   ]
  },
  {
   "cell_type": "code",
   "execution_count": 41,
   "id": "1b875054",
   "metadata": {},
   "outputs": [],
   "source": [
    "dct = fftpack.dct(img.squeeze())"
   ]
  },
  {
   "cell_type": "code",
   "execution_count": 42,
   "id": "52065bdb",
   "metadata": {},
   "outputs": [
    {
     "data": {
      "image/png": "[encoded data removed]",
      "text/plain": [
       "<Figure size 432x288 with 1 Axes>"
      ]
     },
     "metadata": {
      "needs_background": "light"
     },
     "output_type": "display_data"
    }
   ],
   "source": [
    "plt.imshow((dct - dct.min()) / (dct.max() - dct.min())) # Matrix values scaled for visualization\n",
    "plt.show()"
   ]
  },
  {
   "cell_type": "code",
   "execution_count": 44,
   "id": "d80b5f17",
   "metadata": {},
   "outputs": [
    {
     "data": {
      "image/png": "[encoded data removed]",
      "text/plain": [
       "<Figure size 432x288 with 1 Axes>"
      ]
     },
     "metadata": {
      "needs_background": "light"
     },
     "output_type": "display_data"
    }
   ],
   "source": [
    "idct = fftpack.idct(dct)\n",
    "\n",
    "plt.imshow((idct - idct.min()) / (idct.max() - idct.min())) # Matrix values scaled for visualization\n",
    "plt.show()"
   ]
  },
  {
   "cell_type": "code",
   "execution_count": 45,
   "id": "cff40bf7",
   "metadata": {},
   "outputs": [
    {
     "name": "stdout",
     "output_type": "stream",
     "text": [
      "6.540773\n",
      "-28.0\n"
     ]
    }
   ],
   "source": [
    "print(dct.max())\n",
    "print(dct.min())"
   ]
  },
  {
   "cell_type": "code",
   "execution_count": 34,
   "id": "caeb0113",
   "metadata": {},
   "outputs": [
    {
     "data": {
      "text/plain": [
       "array([[-2.80000000e+01,  0.00000000e+00,  0.00000000e+00,\n",
       "         0.00000000e+00, -4.64881850e-07,  0.00000000e+00,\n",
       "         0.00000000e+00,  0.00000000e+00,  0.00000000e+00,\n",
       "         0.00000000e+00,  0.00000000e+00,  0.00000000e+00,\n",
       "        -9.32015780e-08,  0.00000000e+00,  0.00000000e+00,\n",
       "         0.00000000e+00, -7.43257829e-08,  0.00000000e+00,\n",
       "         0.00000000e+00,  0.00000000e+00,  0.00000000e+00,\n",
       "         0.00000000e+00,  0.00000000e+00,  0.00000000e+00,\n",
       "        -1.06106256e-07,  0.00000000e+00,  0.00000000e+00,\n",
       "         0.00000000e+00],\n",
       "       [-2.80000000e+01,  0.00000000e+00,  0.00000000e+00,\n",
       "         0.00000000e+00, -4.64881850e-07,  0.00000000e+00,\n",
       "         0.00000000e+00,  0.00000000e+00,  0.00000000e+00,\n",
       "         0.00000000e+00,  0.00000000e+00,  0.00000000e+00,\n",
       "        -9.32015780e-08,  0.00000000e+00,  0.00000000e+00,\n",
       "         0.00000000e+00, -7.43257829e-08,  0.00000000e+00,\n",
       "         0.00000000e+00,  0.00000000e+00,  0.00000000e+00,\n",
       "         0.00000000e+00,  0.00000000e+00,  0.00000000e+00,\n",
       "        -1.06106256e-07,  0.00000000e+00,  0.00000000e+00,\n",
       "         0.00000000e+00],\n",
       "       [-2.80000000e+01,  0.00000000e+00,  0.00000000e+00,\n",
       "         0.00000000e+00, -4.64881850e-07,  0.00000000e+00,\n",
       "         0.00000000e+00,  0.00000000e+00,  0.00000000e+00,\n",
       "         0.00000000e+00,  0.00000000e+00,  0.00000000e+00,\n",
       "        -9.32015780e-08,  0.00000000e+00,  0.00000000e+00,\n",
       "         0.00000000e+00, -7.43257829e-08,  0.00000000e+00,\n",
       "         0.00000000e+00,  0.00000000e+00,  0.00000000e+00,\n",
       "         0.00000000e+00,  0.00000000e+00,  0.00000000e+00,\n",
       "        -1.06106256e-07,  0.00000000e+00,  0.00000000e+00,\n",
       "         0.00000000e+00],\n",
       "       [-2.80000000e+01,  0.00000000e+00,  0.00000000e+00,\n",
       "         0.00000000e+00, -4.64881850e-07,  0.00000000e+00,\n",
       "         0.00000000e+00,  0.00000000e+00,  0.00000000e+00,\n",
       "         0.00000000e+00,  0.00000000e+00,  0.00000000e+00,\n",
       "        -9.32015780e-08,  0.00000000e+00,  0.00000000e+00,\n",
       "         0.00000000e+00, -7.43257829e-08,  0.00000000e+00,\n",
       "         0.00000000e+00,  0.00000000e+00,  0.00000000e+00,\n",
       "         0.00000000e+00,  0.00000000e+00,  0.00000000e+00,\n",
       "        -1.06106256e-07,  0.00000000e+00,  0.00000000e+00,\n",
       "         0.00000000e+00],\n",
       "       [-2.80000000e+01,  0.00000000e+00,  0.00000000e+00,\n",
       "         0.00000000e+00, -4.64881850e-07,  0.00000000e+00,\n",
       "         0.00000000e+00,  0.00000000e+00,  0.00000000e+00,\n",
       "         0.00000000e+00,  0.00000000e+00,  0.00000000e+00,\n",
       "        -9.32015780e-08,  0.00000000e+00,  0.00000000e+00,\n",
       "         0.00000000e+00, -7.43257829e-08,  0.00000000e+00,\n",
       "         0.00000000e+00,  0.00000000e+00,  0.00000000e+00,\n",
       "         0.00000000e+00,  0.00000000e+00,  0.00000000e+00,\n",
       "        -1.06106256e-07,  0.00000000e+00,  0.00000000e+00,\n",
       "         0.00000000e+00],\n",
       "       [-1.76862755e+01, -6.29399395e+00, -1.57670569e+00,\n",
       "         6.04521179e+00, -5.08809662e+00,  2.27364421e+00,\n",
       "        -8.13342214e-01,  4.09637272e-01,  5.82825482e-01,\n",
       "        -2.35200429e+00,  3.43586612e+00, -2.45263529e+00,\n",
       "        -1.57483310e-01,  2.22374892e+00, -2.12409329e+00,\n",
       "         5.94382524e-01,  4.76949245e-01, -4.51872468e-01,\n",
       "         7.32715130e-02,  1.79473162e-01, -4.62476552e-01,\n",
       "         5.68676651e-01,  3.96009684e-02, -1.06030703e+00,\n",
       "         1.31765294e+00, -2.91440248e-01, -1.00992155e+00,\n",
       "         1.16044831e+00],\n",
       "       [-5.25490189e+00, -6.58690453e+00, -1.25522957e+01,\n",
       "         7.70813131e+00,  5.22590578e-01,  1.23417139e+00,\n",
       "        -1.61880350e+00, -1.31078196e+00,  2.20347023e+00,\n",
       "        -1.84801269e+00,  1.33781791e+00, -3.70736957e-01,\n",
       "        -6.48038685e-01,  1.26861191e+00, -1.12027943e+00,\n",
       "         3.24938327e-01,  5.44576347e-01, -4.77292359e-01,\n",
       "        -4.14198458e-01,  2.60695457e-01,  3.41449142e-01,\n",
       "         1.10736370e-01,  1.29959583e-01, -9.46777821e-01,\n",
       "         1.88164964e-01,  7.06914425e-01, -4.64669228e-01,\n",
       "         1.98343515e-01],\n",
       "       [-5.14509773e+00,  5.71614444e-01, -1.60826378e+01,\n",
       "        -1.89320350e+00,  3.88511848e+00,  1.62428236e+00,\n",
       "         2.13919640e+00,  1.31447482e+00, -1.71263742e+00,\n",
       "        -2.78024912e+00,  2.25774616e-01,  3.19870114e-01,\n",
       "         2.32430354e-01,  2.04342532e+00,  6.65505454e-02,\n",
       "        -1.33703160e+00, -2.57627249e-01, -3.70845258e-01,\n",
       "        -4.57063168e-01,  1.03132057e+00,  9.42647457e-01,\n",
       "        -6.52524829e-01, -2.01158524e-02, -2.01079130e-01,\n",
       "        -9.52832699e-01,  4.88570690e-01,  7.48055458e-01,\n",
       "        -8.63933563e-03],\n",
       "       [-9.41176414e+00,  2.21438551e+00, -1.44343300e+01,\n",
       "        -4.21051168e+00,  5.47598934e+00,  1.84427166e+00,\n",
       "         1.49768233e+00,  1.71764565e+00, -3.10121369e+00,\n",
       "        -2.30587912e+00,  1.39077783e+00, -3.48206580e-01,\n",
       "         3.14270332e-02,  2.86667395e+00, -1.44194737e-01,\n",
       "        -2.62020922e+00,  2.32351333e-01,  4.47617650e-01,\n",
       "        -9.65416729e-01,  1.08257806e+00,  1.33646750e+00,\n",
       "        -8.67546797e-01, -4.39437807e-01, -6.04050159e-02,\n",
       "        -9.33101654e-01,  4.38310981e-01,  1.18488216e+00,\n",
       "        -2.81104624e-01],\n",
       "       [-1.81019611e+01,  1.68752885e+00, -7.82783508e+00,\n",
       "        -3.92680430e+00,  3.18890166e+00,  3.92723513e+00,\n",
       "         7.99768388e-01, -2.74824858e+00, -2.14987183e+00,\n",
       "         2.18703485e+00,  1.39888930e+00, -2.70838308e+00,\n",
       "        -3.34715366e-01,  3.13337660e+00, -2.21840572e-02,\n",
       "        -2.26314688e+00, -3.86534333e-02,  3.67880583e-01,\n",
       "        -5.91259599e-02,  1.13619542e+00,  2.70688176e-01,\n",
       "        -1.21476603e+00, -2.09662855e-01,  9.67124701e-02,\n",
       "        -1.04468107e-01,  1.24423671e+00,  2.34285355e-01,\n",
       "        -2.04528928e+00],\n",
       "       [-2.39843140e+01,  7.62453735e-01, -3.66107941e+00,\n",
       "        -2.09558582e+00,  2.71600437e+00,  2.93656540e+00,\n",
       "        -1.47209406e+00, -3.18027925e+00,  2.48146415e-01,\n",
       "         2.91033101e+00,  7.33827949e-01, -2.30254602e+00,\n",
       "        -1.37958956e+00,  1.52758586e+00,  1.67487228e+00,\n",
       "        -7.19979644e-01, -1.63305521e+00,  3.95143032e-03,\n",
       "         1.29545534e+00,  4.89672899e-01, -7.69810319e-01,\n",
       "        -6.63634777e-01,  2.40031600e-01,  5.28175354e-01,\n",
       "         9.91901159e-02, -2.32811511e-01, -1.53695583e-01,\n",
       "         2.01135874e-03],\n",
       "       [-2.34196091e+01,  7.16866374e-01, -4.29246998e+00,\n",
       "        -2.01973581e+00,  3.49254394e+00,  2.96257734e+00,\n",
       "        -2.35503268e+00, -3.40474749e+00,  1.11857843e+00,\n",
       "         3.32530546e+00, -2.38763988e-02, -2.82114553e+00,\n",
       "        -7.46477723e-01,  2.07351470e+00,  1.10918701e+00,\n",
       "        -1.29355693e+00, -1.09149384e+00,  6.63400054e-01,\n",
       "         8.10590029e-01, -2.90142894e-01, -4.28835213e-01,\n",
       "         1.85705543e-01,  9.94637012e-02, -2.77256131e-01,\n",
       "         8.01236629e-02,  4.43406999e-01, -9.32471752e-02,\n",
       "        -5.63501120e-01],\n",
       "       [-2.38901958e+01,  3.53978664e-01, -3.99702597e+00,\n",
       "        -1.02558661e+00,  3.67233229e+00,  1.59354901e+00,\n",
       "        -3.17434359e+00, -2.00573230e+00,  2.56026316e+00,\n",
       "         2.23205519e+00, -1.89675260e+00, -2.26735640e+00,\n",
       "         1.24995661e+00,  2.13001609e+00, -6.76604211e-01,\n",
       "        -1.85704017e+00,  2.17689455e-01,  1.49697030e+00,\n",
       "         1.04516745e-01, -1.10228479e+00, -2.86209464e-01,\n",
       "         7.22749710e-01,  3.39345932e-01, -4.00663376e-01,\n",
       "        -2.87671685e-01,  1.68249160e-01,  1.62636399e-01,\n",
       "        -4.67976630e-02],\n",
       "       [-2.19607849e+01, -3.94682884e-01, -5.79827785e+00,\n",
       "         1.09206271e+00,  5.12653351e+00, -1.53861856e+00,\n",
       "        -4.16311121e+00,  1.64332283e+00,  3.09730315e+00,\n",
       "        -1.40531516e+00, -2.11838341e+00,  9.09707189e-01,\n",
       "         1.36810899e+00, -2.98965096e-01, -9.09533501e-01,\n",
       "        -2.70613015e-01,  7.20196247e-01,  6.73662305e-01,\n",
       "        -7.10041881e-01, -8.48384917e-01,  7.56993532e-01,\n",
       "         8.08026910e-01, -7.48334527e-01, -6.28977597e-01,\n",
       "         6.15050077e-01,  4.20346141e-01, -3.49203110e-01,\n",
       "        -2.85125613e-01],\n",
       "       [-2.03843136e+01, -1.40365458e+00, -6.81923008e+00,\n",
       "         3.70638561e+00,  4.78180933e+00, -4.75684738e+00,\n",
       "        -2.35509920e+00,  4.42589760e+00,  4.17087406e-01,\n",
       "        -3.18220425e+00,  5.58586299e-01,  1.74671650e+00,\n",
       "        -6.35986149e-01, -6.81445897e-01,  2.27383316e-01,\n",
       "         1.72651231e-01,  2.30072916e-01, -8.85645747e-02,\n",
       "        -4.97900665e-01,  1.91308379e-01,  5.55901885e-01,\n",
       "        -3.14538717e-01, -4.85183954e-01,  4.05721903e-01,\n",
       "         3.54161739e-01, -4.68784928e-01, -1.88286066e-01,\n",
       "         5.04905820e-01],\n",
       "       [-2.08313732e+01, -2.26446724e+00, -5.50683069e+00,\n",
       "         5.45574284e+00,  1.66959190e+00, -5.66767406e+00,\n",
       "         1.86439776e+00,  3.42961168e+00, -3.26530075e+00,\n",
       "        -7.15197384e-01,  2.54157782e+00, -7.97461987e-01,\n",
       "        -1.05272698e+00,  8.33714664e-01,  9.98264551e-02,\n",
       "        -2.22771823e-01, -4.12005186e-03, -1.61755830e-01,\n",
       "         2.90116429e-01,  8.70766640e-02, -4.31059957e-01,\n",
       "         1.64167881e-01,  3.05548429e-01, -2.89237976e-01,\n",
       "        -9.96034145e-02,  2.41375923e-01, -6.55984879e-03,\n",
       "        -1.55363560e-01],\n",
       "       [-2.17176456e+01, -2.78787780e+00, -3.67376208e+00,\n",
       "         5.82114029e+00, -1.59305525e+00, -3.86919951e+00,\n",
       "         4.62617826e+00, -5.68198144e-01, -3.31416273e+00,\n",
       "         3.14256573e+00, -1.27163157e-02, -2.27732325e+00,\n",
       "         1.80535340e+00,  8.12335610e-02, -1.15910065e+00,\n",
       "         8.30294013e-01, -6.18741512e-02, -2.58765340e-01,\n",
       "         1.94962293e-01, -2.01888442e-01,  3.26428413e-01,\n",
       "        -2.26866052e-01, -2.23480701e-01,  6.40954256e-01,\n",
       "        -5.24181843e-01, -1.37133360e-01,  7.55147696e-01,\n",
       "        -7.08271503e-01],\n",
       "       [-2.16078415e+01, -3.17179894e+00, -3.13787389e+00,\n",
       "         6.07146883e+00, -2.87720799e+00, -2.81924224e+00,\n",
       "         5.17216492e+00, -2.28003931e+00, -2.30331922e+00,\n",
       "         3.86601067e+00, -1.48216009e+00, -1.68698025e+00,\n",
       "         2.38946342e+00, -6.42248929e-01, -1.04818213e+00,\n",
       "         9.85361874e-01,  6.48180246e-02, -4.33604956e-01,\n",
       "        -1.51659489e-01,  4.98044968e-01,  1.34785414e-01,\n",
       "        -9.10466194e-01,  5.93530416e-01,  6.39570475e-01,\n",
       "        -1.27107835e+00,  3.85923386e-01,  1.04531550e+00,\n",
       "        -1.28602386e+00],\n",
       "       [-1.95764713e+01, -3.25751638e+00, -5.53301907e+00,\n",
       "         7.01118279e+00, -3.73929620e-01, -5.34013176e+00,\n",
       "         4.03252077e+00,  8.91662300e-01, -3.18906307e+00,\n",
       "         1.77004647e+00,  2.89503068e-01, -1.08569884e+00,\n",
       "         1.06709433e+00, -6.93453550e-01, -1.66378111e-01,\n",
       "         1.00651801e+00, -9.23279762e-01,  4.11574244e-02,\n",
       "         6.21979833e-01, -6.06589496e-01,  3.09271693e-01,\n",
       "        -2.11716294e-02, -3.50117207e-01,  6.55973911e-01,\n",
       "        -4.67550039e-01, -2.11976051e-01,  7.72527218e-01,\n",
       "        -6.74725890e-01],\n",
       "       [-1.53960781e+01, -3.39995480e+00, -9.69789505e+00,\n",
       "         7.56052160e+00,  3.56745768e+00, -6.43161297e+00,\n",
       "         7.73015559e-01,  2.31726313e+00, -9.52746272e-01,\n",
       "         5.12261271e-01, -1.03722608e+00, -3.57622564e-01,\n",
       "         1.91449761e+00, -9.49169397e-01, -8.48528147e-01,\n",
       "         1.07213902e+00, -3.99464130e-01,  2.63526589e-02,\n",
       "         3.35078746e-01, -7.15958953e-01,  4.60216612e-01,\n",
       "         2.46736526e-01, -5.85128367e-01,  4.09863710e-01,\n",
       "        -8.98543596e-02, -2.25304127e-01,  4.59846973e-01,\n",
       "        -3.94976735e-01],\n",
       "       [-1.50588236e+01, -1.17102253e+00, -1.14632492e+01,\n",
       "         2.82766461e+00,  7.75916862e+00, -2.89850712e+00,\n",
       "        -3.54579306e+00,  1.53622794e+00,  4.62056160e-01,\n",
       "         2.52924889e-01,  8.18597257e-01, -1.38791013e+00,\n",
       "        -7.20065355e-01,  1.43586254e+00,  1.77469298e-01,\n",
       "        -7.52329350e-01,  1.12978786e-01,  3.15884948e-02,\n",
       "        -3.82528901e-02,  2.76894003e-01, -1.30363777e-01,\n",
       "        -2.04119205e-01,  1.56074047e-01,  4.76979017e-02,\n",
       "        -5.49604893e-02, -9.83166695e-03, -1.80625916e-02,\n",
       "         5.30225039e-02],\n",
       "       [-1.54901962e+01,  1.43380117e+00, -1.10278740e+01,\n",
       "        -3.43365359e+00,  7.40563297e+00,  3.49020076e+00,\n",
       "        -3.47504020e+00, -1.91341591e+00,  7.60543287e-01,\n",
       "        -5.25076836e-02,  3.50468189e-01,  1.29644978e+00,\n",
       "        -4.02950823e-01, -1.50851917e+00,  1.16464213e-01,\n",
       "         1.03674150e+00,  1.13084003e-01, -3.66078496e-01,\n",
       "        -1.85600966e-01, -1.83318228e-01,  9.26029086e-02,\n",
       "         4.38393056e-01,  1.19632006e-01, -3.29764605e-01,\n",
       "        -2.94518232e-01, -3.29725742e-02,  2.54561901e-01,\n",
       "         3.51975381e-01],\n",
       "       [-1.46352949e+01,  4.63258553e+00, -8.92355537e+00,\n",
       "        -9.19685841e+00,  9.21275020e-01,  5.93845463e+00,\n",
       "         2.31873894e+00, -1.06647408e+00, -3.40421438e-01,\n",
       "         1.42030388e-01, -1.32077241e+00, -1.49335825e+00,\n",
       "         3.81023616e-01,  1.39521337e+00,  5.87868810e-01,\n",
       "        -1.47203565e-01, -2.87242532e-02, -6.56474829e-02,\n",
       "        -4.99461710e-01, -5.33594251e-01, -3.61404270e-02,\n",
       "         3.81719321e-01,  4.55497384e-01,  3.25668573e-01,\n",
       "         4.89518642e-02, -2.97039032e-01, -4.66760159e-01,\n",
       "        -3.29187393e-01],\n",
       "       [-1.34666653e+01,  7.69851780e+00, -5.15360069e+00,\n",
       "        -1.06605320e+01, -5.58689880e+00,  1.57123697e+00,\n",
       "         3.13201237e+00,  6.65273726e-01, -2.47254401e-01,\n",
       "         1.33899462e+00,  1.99632978e+00,  2.85213649e-01,\n",
       "        -1.38672709e+00, -1.03761303e+00,  1.27556458e-01,\n",
       "         1.98455572e-01, -5.25978029e-01, -5.74211478e-01,\n",
       "         1.70851231e-01,  5.80025196e-01,  2.47718811e-01,\n",
       "        -8.94760489e-02,  4.41942215e-02,  2.22685337e-01,\n",
       "         4.28447723e-02, -2.19738007e-01, -2.05877542e-01,\n",
       "        -5.22263050e-02],\n",
       "       [-1.70980396e+01,  7.25901413e+00, -7.27939010e-01,\n",
       "        -6.96109009e+00, -7.58827782e+00, -3.76154566e+00,\n",
       "         4.66040403e-01,  2.27703810e+00,  1.94839919e+00,\n",
       "         1.28160429e+00,  1.17264879e+00,  1.09410024e+00,\n",
       "         4.29457337e-01, -4.84676540e-01, -8.65166068e-01,\n",
       "        -5.80995619e-01, -2.77084142e-01, -4.41600382e-01,\n",
       "        -7.44909048e-01, -5.23757577e-01,  2.70033479e-01,\n",
       "         9.17712212e-01,  7.79325485e-01,  6.90513849e-02,\n",
       "        -3.98031950e-01, -1.64603949e-01,  3.68416429e-01,\n",
       "         4.75618124e-01],\n",
       "       [-2.80000000e+01,  0.00000000e+00,  0.00000000e+00,\n",
       "         0.00000000e+00, -4.64881850e-07,  0.00000000e+00,\n",
       "         0.00000000e+00,  0.00000000e+00,  0.00000000e+00,\n",
       "         0.00000000e+00,  0.00000000e+00,  0.00000000e+00,\n",
       "        -9.32015780e-08,  0.00000000e+00,  0.00000000e+00,\n",
       "         0.00000000e+00, -7.43257829e-08,  0.00000000e+00,\n",
       "         0.00000000e+00,  0.00000000e+00,  0.00000000e+00,\n",
       "         0.00000000e+00,  0.00000000e+00,  0.00000000e+00,\n",
       "        -1.06106256e-07,  0.00000000e+00,  0.00000000e+00,\n",
       "         0.00000000e+00],\n",
       "       [-2.80000000e+01,  0.00000000e+00,  0.00000000e+00,\n",
       "         0.00000000e+00, -4.64881850e-07,  0.00000000e+00,\n",
       "         0.00000000e+00,  0.00000000e+00,  0.00000000e+00,\n",
       "         0.00000000e+00,  0.00000000e+00,  0.00000000e+00,\n",
       "        -9.32015780e-08,  0.00000000e+00,  0.00000000e+00,\n",
       "         0.00000000e+00, -7.43257829e-08,  0.00000000e+00,\n",
       "         0.00000000e+00,  0.00000000e+00,  0.00000000e+00,\n",
       "         0.00000000e+00,  0.00000000e+00,  0.00000000e+00,\n",
       "        -1.06106256e-07,  0.00000000e+00,  0.00000000e+00,\n",
       "         0.00000000e+00],\n",
       "       [-2.80000000e+01,  0.00000000e+00,  0.00000000e+00,\n",
       "         0.00000000e+00, -4.64881850e-07,  0.00000000e+00,\n",
       "         0.00000000e+00,  0.00000000e+00,  0.00000000e+00,\n",
       "         0.00000000e+00,  0.00000000e+00,  0.00000000e+00,\n",
       "        -9.32015780e-08,  0.00000000e+00,  0.00000000e+00,\n",
       "         0.00000000e+00, -7.43257829e-08,  0.00000000e+00,\n",
       "         0.00000000e+00,  0.00000000e+00,  0.00000000e+00,\n",
       "         0.00000000e+00,  0.00000000e+00,  0.00000000e+00,\n",
       "        -1.06106256e-07,  0.00000000e+00,  0.00000000e+00,\n",
       "         0.00000000e+00]], dtype=float32)"
      ]
     },
     "execution_count": 34,
     "metadata": {},
     "output_type": "execute_result"
    }
   ],
   "source": [
    "dct.reshape((60))"
   ]
  },
  {
   "cell_type": "code",
   "execution_count": 33,
   "id": "a8829646",
   "metadata": {},
   "outputs": [
    {
     "data": {
      "text/plain": [
       "(60000, 28, 28)"
      ]
     },
     "execution_count": 33,
     "metadata": {},
     "output_type": "execute_result"
    }
   ],
   "source": [
    "(dct != 0).shape"
   ]
  },
  {
   "cell_type": "markdown",
   "id": "fce8d66e",
   "metadata": {},
   "source": [
    "### Visualize DCT Clusters with TSNE"
   ]
  },
  {
   "cell_type": "code",
   "execution_count": 3,
   "id": "c654dcff",
   "metadata": {},
   "outputs": [
    {
     "name": "stderr",
     "output_type": "stream",
     "text": [
      "c:\\users\\jason\\appdata\\local\\programs\\python\\python39\\lib\\site-packages\\torch\\nn\\functional.py:718: UserWarning: Named tensors and all their associated APIs are an experimental feature and subject to change. Please do not use them for anything important until they are released as stable. (Triggered internally at  ..\\c10/core/TensorImpl.h:1156.)\n",
      "  return torch.max_pool2d(input, kernel_size, stride, padding, dilation, ceil_mode)\n"
     ]
    }
   ],
   "source": [
    "from sklearn.manifold import TSNE\n",
    "\n",
    "# Load Model - used to get model outputs\n",
    "model = utils.load_VGG('trained_models/initial_model.pt')\n",
    "\n",
    "# Select two classes from the dataset and number of samples from each to visualize with TSNE\n",
    "samples_per_class = 892 # Samples per class must be lower than the number of samples per class in the dataset\n",
    "other_digit = 0\n",
    "sample_digit = 1\n",
    "epsilon = 1e-1 # Magnitude of adversarial noise\n",
    "\n",
    "other_digit_indices = np.where(y_test == other_digit)[0]\n",
    "sample_digit_indices = np.where(y_test == sample_digit)[0]\n",
    "\n",
    "# Index into X_test to get data for clustering as well as sample of interest\n",
    "data = np.concatenate((X_test[other_digit_indices[:samples_per_class]], \n",
    "                       X_test[sample_digit_indices[:samples_per_class]]), axis=0)\n",
    "labels = np.append(np.ones((1, samples_per_class), dtype=np.uint8) * other_digit, \n",
    "                   np.ones((1, samples_per_class + 1), dtype=np.uint8) * sample_digit).squeeze()\n",
    "sample = X_test[sample_digit_indices[np.random.randint(0, samples_per_class)]]\n",
    "\n",
    "# Generate adversarial version of sample of interest\n",
    "dataloader = utils.create_dataloader([sample], np.ones((1), dtype=np.uint8) * sample_digit)\n",
    "adv_samples = utils.add_adversarial_noise(model, dataloader, eps=epsilon)\n",
    "sample = adv_samples[0]\n",
    "\n",
    "# Append sample of interest to clustering data and keep track of its index in the dataset\n",
    "sample_idx = data.shape[0]\n",
    "data = np.append(data, np.expand_dims(sample, axis=0), axis=0) # Input to CNN\n",
    "\n",
    "# Transform data using DCT\n",
    "dct_data = fftpack.dct(data - 0.5) # Used for clustering the input space\n",
    "\n",
    "# Get model outputs on test data (not transformed by DCT)\n",
    "testloader = utils.create_dataloader(data, labels)\n",
    "\n",
    "outputs = utils.get_network_outputs(model, testloader)"
   ]
  },
  {
   "cell_type": "code",
   "execution_count": 4,
   "id": "32f1a6cd",
   "metadata": {},
   "outputs": [
    {
     "data": {
      "image/png": "[encoded data removed]",
      "text/plain": [
       "<Figure size 1152x720 with 1 Axes>"
      ]
     },
     "metadata": {
      "needs_background": "light"
     },
     "output_type": "display_data"
    },
    {
     "data": {
      "image/png": "[encoded data removed]",
      "text/plain": [
       "<Figure size 1152x720 with 1 Axes>"
      ]
     },
     "metadata": {
      "needs_background": "light"
     },
     "output_type": "display_data"
    }
   ],
   "source": [
    "clusters = [dct_data, outputs]\n",
    "\n",
    "for i, cluster in enumerate(clusters):\n",
    "    x = cluster\n",
    "    if (x.ndim > 2): # Flatten data\n",
    "        x = x.reshape(x.shape[0], -1)\n",
    "    tsne_output = TSNE(n_components=2, perplexity = 50, n_iter = 50000, learning_rate = 200.0, init='random').fit_transform(x)\n",
    "\n",
    "    # For each unique class of the passed-in data, plot the TSNE embedding of that data\n",
    "    classes = np.unique(labels)\n",
    "    plt.figure(figsize=(16,10))\n",
    "    for val in classes:\n",
    "        class_indices = np.where(labels == val)\n",
    "        plt.scatter(tsne_output[class_indices,0], tsne_output[class_indices,1], label=str(val))\n",
    "    # Plot the sample on the same graph\n",
    "    plt.scatter(tsne_output[sample_idx,0], tsne_output[sample_idx,1], label=\"Sample\", c=\"#000000\")\n",
    "\n",
    "    # Label plot appropriately\n",
    "    if (i == 0):\n",
    "        plt.title(\"Inputs\")\n",
    "    elif(i == (len(clusters) - 1)):\n",
    "        plt.title(\"Outputs\")\n",
    "    else:\n",
    "        plt.title(\"Output layer %d\" % i)\n",
    "    plt.legend()\n",
    "    plt.show()"
   ]
  },
  {
   "cell_type": "code",
   "execution_count": 29,
   "id": "d1020356",
   "metadata": {},
   "outputs": [
    {
     "data": {
      "text/plain": [
       "array([[ 0.       , -0.8660254, -1.5      ],\n",
       "       [ 0.       ,  0.8660254,  1.5      ]])"
      ]
     },
     "execution_count": 29,
     "metadata": {},
     "output_type": "execute_result"
    }
   ],
   "source": [
    "fftpack.dct(np.asarray([[-.5, .5, 0], [.5, -.5, 0]]))"
   ]
  },
  {
   "cell_type": "code",
   "execution_count": 20,
   "id": "5c71e922",
   "metadata": {},
   "outputs": [
    {
     "data": {
      "text/plain": [
       "0.0"
      ]
     },
     "execution_count": 20,
     "metadata": {},
     "output_type": "execute_result"
    }
   ],
   "source": [
    "X_train.min()"
   ]
  },
  {
   "cell_type": "code",
   "execution_count": null,
   "id": "dda50e21",
   "metadata": {},
   "outputs": [],
   "source": []
  }
 ],
 "metadata": {
  "kernelspec": {
   "display_name": "Python 3",
   "language": "python",
   "name": "python3"
  },
  "language_info": {
   "codemirror_mode": {
    "name": "ipython",
    "version": 3
   },
   "file_extension": ".py",
   "mimetype": "text/x-python",
   "name": "python",
   "nbconvert_exporter": "python",
   "pygments_lexer": "ipython3",
   "version": "3.9.5"
  }
 },
 "nbformat": 4,
 "nbformat_minor": 5
}
